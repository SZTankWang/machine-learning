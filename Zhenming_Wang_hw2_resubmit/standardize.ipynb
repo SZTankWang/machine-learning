{
 "cells": [
  {
   "cell_type": "markdown",
   "metadata": {},
   "source": [
    "## 3.1 Normalizing features"
   ]
  },
  {
   "cell_type": "code",
   "execution_count": 66,
   "metadata": {},
   "outputs": [],
   "source": [
    "import pickle\n",
    "import pandas as pd\n",
    "import numpy as np"
   ]
  },
  {
   "cell_type": "code",
   "execution_count": 67,
   "metadata": {},
   "outputs": [],
   "source": [
    "def get_mean(x):\n",
    "    return sum(x)/len(x)"
   ]
  },
  {
   "cell_type": "code",
   "execution_count": 68,
   "metadata": {},
   "outputs": [],
   "source": [
    "def get_std(x, mean):\n",
    "    return ( (x-mean).dot(x-mean) / len(x) )**0.5"
   ]
  },
  {
   "cell_type": "code",
   "execution_count": 69,
   "metadata": {},
   "outputs": [],
   "source": [
    "def get_mean_and_std(x):\n",
    "    mean = get_mean(x)\n",
    "    std = get_std(x, mean)\n",
    "    return mean, std"
   ]
  },
  {
   "cell_type": "code",
   "execution_count": 70,
   "metadata": {},
   "outputs": [],
   "source": [
    "def normalization(x, mean, std):\n",
    "    return ( x - mean )/std"
   ]
  },
  {
   "cell_type": "code",
   "execution_count": 71,
   "metadata": {},
   "outputs": [],
   "source": [
    "def proc_data(data_path):\n",
    "    \"\"\"\n",
    "    standardize the housing data and output it to an external file 'normalized.txt'\n",
    "    \"\"\"\n",
    "    # standardize the housing data, save the normalized data to 'normalized.txt'\n",
    "    ## to do\n",
    "    df = pd.read_csv('housing.txt',header=None,names=[\"size\", \"bedrooms\", \"price\"])\n",
    "    print(df.head())\n",
    "    print(df.info(verbose=True))\n",
    "    \n",
    "    size_arr = df.loc[: ,\"size\"]\n",
    "    area_mean,area_std = get_mean_and_std(size_arr)\n",
    "    print(area_mean,area_std)\n",
    "    \n",
    "    \n",
    "    \n",
    "    bed_arr = df.loc[:,\"bedrooms\"]\n",
    "    n_mean,n_std = get_mean_and_std(bed_arr)\n",
    "    print(n_mean,n_std)\n",
    "    \n",
    "    price_arr = df.loc[:,\"price\"]\n",
    "    price_mean,price_std = get_mean_and_std(price_arr)\n",
    "    print(price_mean,price_std)\n",
    "    \n",
    "    temp_dict = {\"size\":(area_mean,area_std),\"bedrooms\":(n_mean,n_std),\"price\":(price_mean,price_std)}\n",
    "    \n",
    "#     do the normalization\n",
    "    for label, content in df.items():\n",
    "        mean = temp_dict[label][0]\n",
    "        std = temp_dict[label][1]\n",
    "        content = content.apply(normalization,args=(mean,std,))\n",
    "        df.loc[:,label] = content\n",
    "        \n",
    "    print(df.head())\n",
    "\n",
    "#     store the values used for normalization\n",
    "    f = open(\"mean_std.pk\", \"wb\")\n",
    "    pickle.dump({'area':{'mean': area_mean, 'std': area_std},\n",
    "                 'n_bedroom':{'mean': n_mean, 'std': n_std},\n",
    "                 'price':{'mean': price_mean, 'std': price_std},\n",
    "                 },\n",
    "                f)\n",
    "    f.close()\n",
    "    \n",
    "#     store to normalized.txt\n",
    "\n",
    "    df.to_csv(\"normalized.txt\",header=False,index=False)\n",
    "    \n",
    "    return"
   ]
  },
  {
   "cell_type": "code",
   "execution_count": 72,
   "metadata": {},
   "outputs": [
    {
     "name": "stdout",
     "output_type": "stream",
     "text": [
      "   size  bedrooms   price\n",
      "0  2104         3  399900\n",
      "1  1600         3  329900\n",
      "2  2400         3  369000\n",
      "3  1416         2  232000\n",
      "4  3000         4  539900\n",
      "<class 'pandas.core.frame.DataFrame'>\n",
      "RangeIndex: 47 entries, 0 to 46\n",
      "Data columns (total 3 columns):\n",
      " #   Column    Non-Null Count  Dtype\n",
      "---  ------    --------------  -----\n",
      " 0   size      47 non-null     int64\n",
      " 1   bedrooms  47 non-null     int64\n",
      " 2   price     47 non-null     int64\n",
      "dtypes: int64(3)\n",
      "memory usage: 1.2 KB\n",
      "None\n",
      "2000.6808510638298 786.2026187430467\n",
      "3.1702127659574466 0.752842809061878\n",
      "340412.6595744681 123702.5360061474\n",
      "       size  bedrooms     price\n",
      "0  0.131415 -0.226093  0.480890\n",
      "1 -0.509641 -0.226093 -0.084983\n",
      "2  0.507909 -0.226093  0.231097\n",
      "3 -0.743677 -1.554392 -0.876398\n",
      "4  1.271071  1.102205  1.612637\n"
     ]
    }
   ],
   "source": [
    "proc_data('housing.txt')"
   ]
  },
  {
   "cell_type": "code",
   "execution_count": null,
   "metadata": {},
   "outputs": [],
   "source": []
  }
 ],
 "metadata": {
  "kernelspec": {
   "display_name": "Python 3",
   "language": "python",
   "name": "python3"
  },
  "language_info": {
   "codemirror_mode": {
    "name": "ipython",
    "version": 3
   },
   "file_extension": ".py",
   "mimetype": "text/x-python",
   "name": "python",
   "nbconvert_exporter": "python",
   "pygments_lexer": "ipython3",
   "version": "3.8.5"
  }
 },
 "nbformat": 4,
 "nbformat_minor": 5
}
