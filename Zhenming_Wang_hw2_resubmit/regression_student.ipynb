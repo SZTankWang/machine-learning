{
 "cells": [
  {
   "cell_type": "markdown",
   "metadata": {},
   "source": [
    "## 3.2 Gradient Descent"
   ]
  },
  {
   "cell_type": "markdown",
   "metadata": {},
   "source": [
    "Loss function $$J(w) = \\frac{1}{n} \\sum \\limits_{i=1} ^{n} (y^{i}-\\hat{y^{i}})^2 $$\n",
    "where n is the number of samples, $y^{i}$ are the observed values, $\\hat{y^{i}}$ are the predicted values"
   ]
  },
  {
   "cell_type": "code",
   "execution_count": 1,
   "metadata": {},
   "outputs": [],
   "source": [
    "import pickle\n",
    "import matplotlib.pylab as plt\n",
    "import pandas as pd\n",
    "import numpy as np"
   ]
  },
  {
   "cell_type": "code",
   "execution_count": 2,
   "metadata": {},
   "outputs": [],
   "source": [
    "## load data\n",
    "def load_data():\n",
    "    df = pd.read_csv('normalized.txt', header=None)\n",
    "    df.columns = ['area', 'bdrm', 'price']\n",
    "    df ['intercept'] = 1\n",
    "    X = df[['intercept', 'area', 'bdrm']].values\n",
    "    y = df['price'].values\n",
    "    return X, y"
   ]
  },
  {
   "cell_type": "code",
   "execution_count": 3,
   "metadata": {},
   "outputs": [],
   "source": [
    "def compute_error(pred, truth):\n",
    "    # compute the mean squared error\n",
    "    \n",
    "    ## to do\n",
    "    n = len(pred)\n",
    "    diff = np.subtract(truth,pred)\n",
    "    diff_T = np.transpose(diff)\n",
    "    error = 1/n * np.dot(diff_T,diff)\n",
    "    return error\n",
    "    \n",
    "    "
   ]
  },
  {
   "cell_type": "code",
   "execution_count": 4,
   "metadata": {},
   "outputs": [],
   "source": [
    "def compute_grad(X,y,w):\n",
    "    # compute the gradient\n",
    "    \n",
    "    ## to do\n",
    "    \n",
    "    n = np.shape(X)[0]\n",
    "    m = np.shape(X)[1]\n",
    "    gradient = np.zeros((3,1),dtype=np.float32)\n",
    "#     print(\"shape of X:{},shape of y:{}, shape of w:{}\".format(np.shape(X),np.shape(y),np.shape(w)))\n",
    "    \n",
    "    WTX2 = ((X.T).dot(X)).dot(w)\n",
    "    YX = y.T.dot(X).reshape(3,1)\n",
    "    gradient = (2/n) * (WTX2 - YX)\n",
    "#     print(\"inside gradient function:\",gradient)\n",
    "    return gradient"
   ]
  },
  {
   "cell_type": "code",
   "execution_count": 7,
   "metadata": {},
   "outputs": [],
   "source": [
    "## training with gradient descent\n",
    "def train(X, y, learning_rate, max_num_iter=1000):\n",
    "    \"\"\"\n",
    "    write a function which apply Gradient descent to estimate parameter w\n",
    "    Please also record the mean squared error in the iteration process and save it to error history\n",
    "    \"\"\"\n",
    "    error_history = []\n",
    "    \n",
    "    # initialize w\n",
    "    num_dim = np.shape(X)[1]\n",
    "    w = np.zeros((num_dim, 1), dtype=np.float32)\n",
    "    \n",
    "    # ensure dimension is 2-dim\n",
    "    y = y.reshape(y.shape[0], 1)\n",
    "    \n",
    "    \n",
    "    \n",
    "    for steps in range(max_num_iter):\n",
    "        # compute gradient descent over all training examples\n",
    "        # perform gradient descent (vector update)\n",
    "        # get predictions\n",
    "        # compute MSE and add it into error_history\n",
    "        \n",
    "        ## to do\n",
    "        grad = compute_grad(X,y,w)\n",
    "#         print(\"grad:\",grad)\n",
    "        to_sub = learning_rate*grad\n",
    "#         print(\"shape of to_sub:\",np.shape(to_sub))\n",
    "#         print(np.shape(w))\n",
    "        w = np.subtract(w,to_sub)\n",
    "#         print(np.shape(w))\n",
    "        pred = np.dot(X,w)\n",
    "        mse = compute_error(pred,y)\n",
    "#         print(\"shape of mse:{}\".format(np.shape(mse)))\n",
    "#         print(\"type of mse:\",type(mse))\n",
    "        error_history.append(mse[0,0])\n",
    "#         print(\"w:{},mse:{}\".format(w,mse))\n",
    "        \n",
    "    return w, error_history"
   ]
  },
  {
   "cell_type": "code",
   "execution_count": 8,
   "metadata": {},
   "outputs": [
    {
     "name": "stdout",
     "output_type": "stream",
     "text": [
      "test (100,)\n"
     ]
    },
    {
     "data": {
      "image/png": "[encoded data removed]",
      "text/plain": [
       "<Figure size 432x288 with 1 Axes>"
      ]
     },
     "metadata": {
      "needs_background": "light"
     },
     "output_type": "display_data"
    },
    {
     "name": "stdout",
     "output_type": "stream",
     "text": [
      "min index at: 2\n"
     ]
    }
   ],
   "source": [
    "## fit regression model and plot the MSE/SSE vs. number of iterations\n",
    "X, y = load_data()\n",
    "\n",
    "## to do\n",
    "w1,errors1 = train(X,y,0.01,100)\n",
    "# print(\"test\",np.shape(errors1))\n",
    "plt.plot([i*10 for i in range(1,9)], [errors1[i] for i in range(10,81,10)],label=\"learning rate at 0.01\")\n",
    "\n",
    "w2,errors2 = train(X,y,0.1,100)\n",
    "plt.plot([i*10 for i in range(1,9)], [errors2[i] for i in range(10,81,10)],label=\"learning rate at 0.1\")\n",
    "\n",
    "\n",
    "w3,errors3 = train(X,y,0.3,100)\n",
    "MSES = [errors1[-1],errors2[-1]]\n",
    "plt.plot([i*10 for i in range(1,9)], [errors3[i] for i in range(10,81,10)],label=\"learning rate at 0.3\")\n",
    "plt.legend()\n",
    "plt.xlabel(\"iterations\")\n",
    "plt.ylabel(\"MSE\")\n",
    "plt.show()\n",
    "MSES = [errors1[-1],errors2[-1],errors3[-1]]\n",
    "print(\"min index at:\",MSES.index(min(MSES)))"
   ]
  },
  {
   "cell_type": "markdown",
   "metadata": {},
   "source": [
    "## 3.3 Make prediction based on the linear regression model you get"
   ]
  },
  {
   "cell_type": "code",
   "execution_count": 9,
   "metadata": {},
   "outputs": [
    {
     "name": "stdout",
     "output_type": "stream",
     "text": [
      "2000.6808510638298\n"
     ]
    }
   ],
   "source": [
    "# get the values used for normalization\n",
    "f = open('mean_std.pk', 'rb')\n",
    "norm_params = pickle.load(f)\n",
    "l, b, p = norm_params['area'], norm_params['n_bedroom'], norm_params['price']\n",
    "print(l[\"mean\"])\n",
    "f.close()"
   ]
  },
  {
   "cell_type": "code",
   "execution_count": 10,
   "metadata": {},
   "outputs": [
    {
     "name": "stdout",
     "output_type": "stream",
     "text": [
      "The w is [[-7.94997730e-17]\n",
      " [ 8.84765988e-01]\n",
      " [-5.31788197e-02]], and pred_price is [493159.45624901]\n",
      "\n"
     ]
    }
   ],
   "source": [
    "# first normalize the features and then make predictions\n",
    "\n",
    "## to do\n",
    "size = 3150\n",
    "bed = 4\n",
    "\n",
    "std_size = l[\"std\"]\n",
    "mean_size = l[\"mean\"]\n",
    "std_bed = b[\"std\"]\n",
    "mean_bed = b[\"mean\"]\n",
    "n_size = (size-mean_size)/std_size\n",
    "n_bed = (bed-mean_bed)/std_bed\n",
    "\n",
    "new_X = np.array([1,n_size,n_bed])\n",
    "pred_price = new_X.dot(w3)\n",
    "\n",
    "std_price = p[\"std\"]\n",
    "mean_price = p[\"mean\"]\n",
    "\n",
    "pred_price = pred_price * std_price +mean_price\n",
    "# print out the predicted value\n",
    "print(\"The w is {}, and pred_price is {}\\n\".format(w3, pred_price))"
   ]
  },
  {
   "cell_type": "code",
   "execution_count": null,
   "metadata": {},
   "outputs": [],
   "source": []
  }
 ],
 "metadata": {
  "kernelspec": {
   "display_name": "Python 3",
   "language": "python",
   "name": "python3"
  },
  "language_info": {
   "codemirror_mode": {
    "name": "ipython",
    "version": 3
   },
   "file_extension": ".py",
   "mimetype": "text/x-python",
   "name": "python",
   "nbconvert_exporter": "python",
   "pygments_lexer": "ipython3",
   "version": "3.8.5"
  }
 },
 "nbformat": 4,
 "nbformat_minor": 5
}
