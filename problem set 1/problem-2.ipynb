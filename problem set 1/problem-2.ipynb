{
 "cells": [
  {
   "cell_type": "markdown",
   "metadata": {},
   "source": [
    "# KNN for Iris flowers classification"
   ]
  },
  {
   "cell_type": "code",
   "execution_count": 16,
   "metadata": {},
   "outputs": [],
   "source": [
    "# import modules\n",
    "import matplotlib.pyplot as plt\n",
    "import numpy as np \n",
    "from sklearn.neighbors import KNeighborsClassifier\n",
    "from sklearn import datasets as ds\n",
    "from sklearn.model_selection import train_test_split"
   ]
  },
  {
   "cell_type": "code",
   "execution_count": 17,
   "metadata": {},
   "outputs": [],
   "source": [
    "# load iris dataset\n",
    "iris = ds.load_iris()"
   ]
  },
  {
   "cell_type": "code",
   "execution_count": 22,
   "metadata": {},
   "outputs": [],
   "source": [
    "# assign iris features to X, an array of shape (150,4)\n",
    "# assign iris labels to y, an array of shape (150,)\n",
    "X = iris['data']\n",
    "y = iris['target']"
   ]
  },
  {
   "cell_type": "markdown",
   "metadata": {},
   "source": [
    "## (a) calculate elements in each class"
   ]
  },
  {
   "cell_type": "code",
   "execution_count": 23,
   "metadata": {},
   "outputs": [
    {
     "name": "stdout",
     "output_type": "stream",
     "text": [
      "setosa :  50\n",
      "versicolor :  50\n",
      "virginica :  50\n"
     ]
    }
   ],
   "source": [
    "# calculate elements in each class\n",
    "# print out the result\n",
    "## to do \n",
    "\n",
    "#get all the classes\n",
    "classes = dict()\n",
    "label = iris.target_names\n",
    "for i in y:\n",
    "    label_name = label[i]\n",
    "    if label_name not in classes:\n",
    "        classes[label_name] = 1\n",
    "    else:\n",
    "        classes[label_name] += 1\n",
    "\n",
    "for i in classes:\n",
    "    print(i,': ',classes[i])\n",
    "\n",
    "   "
   ]
  },
  {
   "cell_type": "markdown",
   "metadata": {},
   "source": [
    "**Answer**: For every class, there are 50 observations in each class."
   ]
  },
  {
   "cell_type": "markdown",
   "metadata": {},
   "source": [
    "## (b) build a KNeighborsClassifier with k=1"
   ]
  },
  {
   "cell_type": "code",
   "execution_count": 24,
   "metadata": {},
   "outputs": [
    {
     "data": {
      "text/plain": [
       "KNeighborsClassifier(algorithm='auto', leaf_size=30, metric='minkowski',\n",
       "                     metric_params=None, n_jobs=None, n_neighbors=1, p=2,\n",
       "                     weights='uniform')"
      ]
     },
     "execution_count": 24,
     "metadata": {},
     "output_type": "execute_result"
    }
   ],
   "source": [
    "# initialize the knn model\n",
    "model_knn = KNeighborsClassifier(n_neighbors=1)\n",
    "model_knn.fit(X,y)"
   ]
  },
  {
   "cell_type": "code",
   "execution_count": 25,
   "metadata": {},
   "outputs": [
    {
     "name": "stdout",
     "output_type": "stream",
     "text": [
      "1.0\n"
     ]
    }
   ],
   "source": [
    "# calculate prediction accuracy\n",
    "# print out the accuracy\n",
    "## to do\n",
    "\n",
    "accuracy = model_knn.score(X,y)\n",
    "print(accuracy)"
   ]
  },
  {
   "cell_type": "markdown",
   "metadata": {},
   "source": [
    "**Accuracy**: 1.0. \n",
    "Yes, this is meaningful, it represents the number of correct prediction our model are able to make after being trained."
   ]
  },
  {
   "cell_type": "markdown",
   "metadata": {},
   "source": [
    "## (c) find optimal value of k"
   ]
  },
  {
   "cell_type": "code",
   "execution_count": 26,
   "metadata": {},
   "outputs": [],
   "source": [
    "# split the dataset into training and test\n",
    "X_train, X_test, y_train, y_test = train_test_split(X, y, test_size=0.5, shuffle=True, random_state=0)"
   ]
  },
  {
   "cell_type": "code",
   "execution_count": 27,
   "metadata": {},
   "outputs": [],
   "source": [
    "# try different value of k from 1 to 50\n",
    "K = 50\n",
    "train_accu = np.zeros(50)\n",
    "test_accu = np.zeros(50)\n",
    "for i in range(1,K+1):\n",
    "    # initialize the model\n",
    "    # fit the data\n",
    "    # store training accuracy in train_accu\n",
    "    # store validation accuracy in test_acc\n",
    "    ## to do\n",
    "    new_model = KNeighborsClassifier(n_neighbors=i)\n",
    "    new_model.fit(X_train,y_train)\n",
    "    train_accu_val = new_model.score(X_train,y_train)\n",
    "    test_accu_val = new_model.score(X_test,y_test)\n",
    "#     print(train_accu_val,test_accu_val)\n",
    "    train_accu[i-1] = train_accu_val\n",
    "    test_accu[i-1] = test_accu_val"
   ]
  },
  {
   "cell_type": "code",
   "execution_count": 29,
   "metadata": {},
   "outputs": [
    {
     "data": {
      "text/plain": [
       "<matplotlib.legend.Legend at 0x1f6255679c8>"
      ]
     },
     "execution_count": 29,
     "metadata": {},
     "output_type": "execute_result"
    },
    {
     "data": {
      "image/png": "[encoded data removed]",
      "text/plain": [
       "<Figure size 432x288 with 1 Axes>"
      ]
     },
     "metadata": {
      "needs_background": "light"
     },
     "output_type": "display_data"
    }
   ],
   "source": [
    "# plot the training accuracy and test accuracy against k\n",
    "plt.figure()\n",
    "plt.xlabel('k')\n",
    "plt.ylabel('Accuracy (%)')\n",
    "x_range = np.linspace(1, K, num=K)\n",
    "plt.plot(x_range, train_accu, label='training')\n",
    "plt.plot(x_range, test_accu, label='test')\n",
    "plt.legend()"
   ]
  },
  {
   "cell_type": "code",
   "execution_count": 30,
   "metadata": {},
   "outputs": [
    {
     "name": "stdout",
     "output_type": "stream",
     "text": [
      "min error rate found at k =9\n",
      "\n",
      "the error rate is 0.026667\n"
     ]
    }
   ],
   "source": [
    "# find the optimal k value\n",
    "# print out the optimal k\n",
    "## to do\n",
    "\n",
    "##I find the k with the least error rate with test dataset\n",
    "max = 0\n",
    "max_k = None\n",
    "for i in range(K):\n",
    "    if test_accu[i] > max:\n",
    "        max = test_accu[i]\n",
    "        max_k = i+1\n",
    "\n",
    "print(\"min error rate found at k =%d\"%max_k)\n",
    "print(\"\\nthe error rate is %f\"%(1-max))"
   ]
  },
  {
   "cell_type": "markdown",
   "metadata": {},
   "source": [
    "**Answer**: The minimal error rate was found at k=9.\n",
    "The error rate is 1-(0.97333..) = 0.02666..."
   ]
  },
  {
   "cell_type": "markdown",
   "metadata": {},
   "source": [
    "## (d) predict a new sample"
   ]
  },
  {
   "cell_type": "code",
   "execution_count": 31,
   "metadata": {},
   "outputs": [
    {
     "data": {
      "text/plain": [
       "['sepal length (cm)',\n",
       " 'sepal width (cm)',\n",
       " 'petal length (cm)',\n",
       " 'petal width (cm)']"
      ]
     },
     "execution_count": 31,
     "metadata": {},
     "output_type": "execute_result"
    }
   ],
   "source": [
    "# check the order of the features\n",
    "iris['feature_names']"
   ]
  },
  {
   "cell_type": "code",
   "execution_count": 32,
   "metadata": {},
   "outputs": [],
   "source": [
    "# match the input values with the feature names\n",
    "## to do\n",
    "new_data = np.array([[3.8,5.0,1.2,4.1]])\n"
   ]
  },
  {
   "cell_type": "code",
   "execution_count": 33,
   "metadata": {},
   "outputs": [
    {
     "name": "stdout",
     "output_type": "stream",
     "text": [
      "prediction:  setosa\n"
     ]
    }
   ],
   "source": [
    "# make prediction\n",
    "# print out the prediction result\n",
    "## to do\n",
    "## I would use k=9, based on previous question\n",
    "new_model = KNeighborsClassifier(n_neighbors=9)\n",
    "new_model.fit(X_train,y_train)\n",
    "output_class = new_model.predict(new_data)\n",
    "class_label = output_class[0]\n",
    "class_names = iris['target_names']\n",
    "print(\"prediction: \",class_names[class_label])"
   ]
  },
  {
   "cell_type": "markdown",
   "metadata": {},
   "source": [
    "**Answer**: The prediction is class `setosa`"
   ]
  },
  {
   "cell_type": "code",
   "execution_count": null,
   "metadata": {},
   "outputs": [],
   "source": []
  }
 ],
 "metadata": {
  "kernelspec": {
   "display_name": "Python 3",
   "language": "python",
   "name": "python3"
  },
  "language_info": {
   "codemirror_mode": {
    "name": "ipython",
    "version": 3
   },
   "file_extension": ".py",
   "mimetype": "text/x-python",
   "name": "python",
   "nbconvert_exporter": "python",
   "pygments_lexer": "ipython3",
   "version": "3.7.6"
  }
 },
 "nbformat": 4,
 "nbformat_minor": 5
}
