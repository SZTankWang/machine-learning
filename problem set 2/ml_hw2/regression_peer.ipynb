{
 "cells": [
  {
   "cell_type": "markdown",
   "metadata": {},
   "source": [
    "## 3.2 Gradient Descent"
   ]
  },
  {
   "cell_type": "markdown",
   "metadata": {},
   "source": [
    "Loss function $$J(w) = \\frac{1}{n} \\sum \\limits_{i=1} ^{n} (y^{i}-\\hat{y^{i}}) $$\n",
    "where n is the number of samples, $y^{i}$ are the observed values, $\\hat{y^{i}}$ are the predicted values"
   ]
  },
  {
   "cell_type": "code",
   "execution_count": 287,
   "metadata": {},
   "outputs": [],
   "source": [
    "import pickle\n",
    "import matplotlib.pylab as plt\n",
    "import pandas as pd\n",
    "import numpy as np"
   ]
  },
  {
   "cell_type": "code",
   "execution_count": 288,
   "metadata": {},
   "outputs": [],
   "source": [
    "## load data\n",
    "def load_data():\n",
    "    df = pd.read_csv('normalized.txt', header=None)\n",
    "    df.columns = ['area', 'bdrm', 'price']\n",
    "    df ['intercept'] = 1\n",
    "    X = df[['intercept', 'area', 'bdrm']].values\n",
    "    y = df['price'].values\n",
    "    return X, y"
   ]
  },
  {
   "cell_type": "code",
   "execution_count": 289,
   "metadata": {},
   "outputs": [],
   "source": [
    "def compute_error(pred, truth):\n",
    "    # compute the mean squared error\n",
    "    \n",
    "    ## to do\n",
    "    total = 0\n",
    "    for i in range(len(pred)):\n",
    "        total += (truth[i] - pred[i])**2\n",
    "    MSE = total / len(pred)\n",
    "    return float(MSE)"
   ]
  },
  {
   "cell_type": "code",
   "execution_count": 290,
   "metadata": {},
   "outputs": [],
   "source": [
    "def compute_grad(X,y,w):\n",
    "    # compute the gradient\n",
    "    \n",
    "    ## to do\n",
    "    XTXw = ((X.T).dot(X)).dot(w).reshape(3,1)\n",
    "    XTY = (X.T).dot(y).reshape(3,1)\n",
    "    gradlis = XTXw - XTY  # [w0 w1 w2]  gradlis.shape = (3,1)\n",
    "#     w = w - learning_rate * gradlis\n",
    "    return gradlis / len(y)"
   ]
  },
  {
   "cell_type": "code",
   "execution_count": 291,
   "metadata": {},
   "outputs": [],
   "source": [
    "## training with gradient descent\n",
    "def train(X, y, learning_rate, max_num_iter=1000):\n",
    "    \"\"\"\n",
    "    write a function which apply Gradient descent to estimate parameter w\n",
    "    Please also record the mean squared error in the iteration process and save it to error history\n",
    "    \"\"\"\n",
    "    error_history = []\n",
    "    \n",
    "    # initialize w\n",
    "    num_dim = len(X[0])\n",
    "    w = np.zeros((num_dim, 1), dtype=np.float32) # w.shape = (num_dim,1)\n",
    "    \n",
    "    # ensure dimension is 2-dim\n",
    "    y = y.reshape(y.shape[0], 1)\n",
    "    \n",
    "    for steps in range(max_num_iter):\n",
    "        # compute gradient descent over all training examples\n",
    "        # perform gradient descent (vector update)\n",
    "        # get predictions\n",
    "        # compute MSE and add it into error_history\n",
    "        \n",
    "        ## to do\n",
    "        pred = X.dot(w)\n",
    "        MSE = compute_error(pred, y)\n",
    "        error_history.append(MSE)\n",
    "        grad = compute_grad(X,y,w)\n",
    "        \n",
    "        \n",
    "        wNext = w - learning_rate * grad\n",
    "        predNext = X.dot(wNext)\n",
    "        MSENext = compute_error(predNext, y)\n",
    "        \n",
    "        \n",
    "        if MSE - MSENext < 0:\n",
    "            print('Not Decreasing!')\n",
    "            print(error_history)\n",
    "            break\n",
    "        if MSE - MSENext < 1e-15:\n",
    "            break\n",
    "            \n",
    "        w = wNext\n",
    "        \n",
    "    return w, error_history"
   ]
  },
  {
   "cell_type": "code",
   "execution_count": 292,
   "metadata": {},
   "outputs": [
    {
     "data": {
      "image/png": "[encoded data removed]",
      "text/plain": [
       "<Figure size 432x288 with 1 Axes>"
      ]
     },
     "metadata": {
      "needs_background": "light"
     },
     "output_type": "display_data"
    }
   ],
   "source": [
    "## fit regression model and plot the SSE vs. number of iterations\n",
    "X, y = load_data()\n",
    "\n",
    "learning_rates = ['0.01', '0.1', '0.3']\n",
    "endingW = [] # 存储各learning rate的list 共3项 每项是一个(3,1)的array\n",
    "endingMSE = [] # 存储各learning rate的list 共3项 每项是一个(3,1)的array\n",
    "\n",
    "for idx in range(len(learning_rates)):\n",
    "    w, error_history = train(X, y, float(learning_rates[idx]), max_num_iter=1000)\n",
    "    endingW.append(w)\n",
    "    endingMSE.append(error_history[-1])\n",
    "\n",
    "    iterations = [10,20,30,40,50,60,70,80]\n",
    "    iterToPlot = []\n",
    "    SSEtoPlot = []\n",
    "    for iteration in iterations:\n",
    "        if iteration < len(error_history):\n",
    "            iterToPlot.append(iteration)\n",
    "            SSEtoPlot.append(error_history[iteration] * len(X))\n",
    "    plt.plot(iterToPlot, SSEtoPlot, '.-',linewidth=2.5, label='learning rate: ' + learning_rates[idx])\n",
    "\n",
    "plt.xlabel('iterations')\n",
    "plt.ylabel('SSE')\n",
    "plt.legend(loc='upper right')\n",
    "plt.show()"
   ]
  },
  {
   "cell_type": "markdown",
   "metadata": {},
   "source": [
    "## 3.3 Make prediction based on the linear regression model you get"
   ]
  },
  {
   "cell_type": "code",
   "execution_count": 293,
   "metadata": {},
   "outputs": [],
   "source": [
    "# get the values used for normalization\n",
    "f = open('mean_std.pk', 'rb')\n",
    "norm_params = pickle.load(f)\n",
    "l, b, p = norm_params['area'], norm_params['n_bedroom'], norm_params['price']\n",
    "f.close()"
   ]
  },
  {
   "cell_type": "code",
   "execution_count": 295,
   "metadata": {},
   "outputs": [
    {
     "name": "stdout",
     "output_type": "stream",
     "text": [
      "The w is [-7.94998101e-17  8.84765927e-01 -5.31787587e-02], and pred_price is [493159.45353837]\n",
      "\n"
     ]
    }
   ],
   "source": [
    "# first normalize the features and then make predictions\n",
    "\n",
    "## to do\n",
    "# print(l['mean'],b,p)\n",
    "\n",
    "optimalIdx = endingMSE.index(min(endingMSE))\n",
    "optimalW = endingW[optimalIdx]\n",
    "\n",
    "para_mean = [l['mean'], b['mean'], p['mean']]\n",
    "para_std = [l['std'], b['std'], p['std']]\n",
    "\n",
    "newXlis = [1, 3150, 4]\n",
    "for i in range(1,len(newXlis)):\n",
    "    newXlis[i] = (newXlis[i] - para_mean[i-1]) / para_std[i-1]\n",
    "nor_newX = np.array(newXlis)  # (3,) 1D array\n",
    "\n",
    "nor_pred = nor_newX.dot(optimalW)\n",
    "pred_price = nor_pred * para_std[-1] + para_mean[-1]\n",
    "w = optimalW.reshape(3,)\n",
    "\n",
    "# print out the predicted value\n",
    "print(\"The w is {}, and pred_price is {}\\n\".format(w, pred_price))"
   ]
  },
  {
   "cell_type": "code",
   "execution_count": null,
   "metadata": {},
   "outputs": [],
   "source": []
  }
 ],
 "metadata": {
  "kernelspec": {
   "display_name": "Python 3",
   "language": "python",
   "name": "python3"
  },
  "language_info": {
   "codemirror_mode": {
    "name": "ipython",
    "version": 3
   },
   "file_extension": ".py",
   "mimetype": "text/x-python",
   "name": "python",
   "nbconvert_exporter": "python",
   "pygments_lexer": "ipython3",
   "version": "3.8.3"
  }
 },
 "nbformat": 4,
 "nbformat_minor": 5
}
