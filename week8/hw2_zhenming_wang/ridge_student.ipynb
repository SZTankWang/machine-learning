{
 "cells": [
  {
   "cell_type": "markdown",
   "id": "incredible-myanmar",
   "metadata": {},
   "source": [
    "## 4.1 Run ridge regression, choose the best $\\lambda$"
   ]
  },
  {
   "cell_type": "code",
   "execution_count": null,
   "id": "likely-moscow",
   "metadata": {},
   "outputs": [],
   "source": [
    "# import necessary modules\n",
    "from setup_problem import load_problem\n",
    "from ridge_regression import *"
   ]
  },
  {
   "cell_type": "code",
   "execution_count": null,
   "id": "professional-rabbit",
   "metadata": {},
   "outputs": [],
   "source": [
    "lasso_data_fname = \"lasso_data.pickle\"\n",
    "x_train, y_train, x_val, y_val, target_fn, coefs_true, featurize = load_problem(lasso_data_fname)\n",
    "\n",
    "\"\"\" \n",
    "4.1.1. Run ridge regression on the provided training dataset.  Choose the λ that minimizes\n",
    "the empirical risk (i.e.  the average square loss) on the validation set.  Include\n",
    "a table of the parameter values you tried and the validation performance for each. (10 points) \n",
    "\"\"\"\n",
    "## to do"
   ]
  },
  {
   "cell_type": "code",
   "execution_count": null,
   "id": "coordinate-treasurer",
   "metadata": {},
   "outputs": [],
   "source": [
    "\"\"\"\n",
    "4.1.2. Also include a plot of the results (Validation loss against l2 regularization parameters)\n",
    "(5 points) \n",
    "Hint: you may want to use a log scale for the x axis\n",
    "\"\"\"\n",
    "## to do"
   ]
  },
  {
   "cell_type": "markdown",
   "id": "becoming-grenada",
   "metadata": {},
   "source": [
    "## 4.2 Visualize the prediction functions"
   ]
  },
  {
   "cell_type": "code",
   "execution_count": null,
   "id": "significant-heading",
   "metadata": {},
   "outputs": [],
   "source": [
    "\"\"\" \n",
    "4.2 Now we want to visualize the prediction functions.  On the same axes, plot the following:\n",
    "the training data, the target function, an unregularized least squares fit (still using the \n",
    "featurized data),and the prediction function chosen in the previous problem. (5 points) \n",
    "Hint: you may find plot_prediction_functions() from ridge_regression module useful\n",
    "\"\"\"\n",
    "\n",
    "# initialize a model with the λ chosen in 4.1, fit the model\n",
    "\n",
    "# initialize a model without regularization, fit the model\n",
    "\n",
    "# Plot the training data, the target function, an unregularized least square fit, \n",
    "# the prediction function chosen in 4.1\n",
    "\n",
    "## to do"
   ]
  },
  {
   "cell_type": "code",
   "execution_count": null,
   "id": "expressed-cartoon",
   "metadata": {},
   "outputs": [],
   "source": [
    "\"\"\" \n",
    "Next, along the lines of the bar charts produced by the code in compare_parameter_vectors, \n",
    "visualize the coefficients for each of the prediction functions plotted, including the target \n",
    "function. (5 points) \n",
    "Hint: you may find compare_parameter_vectors() from ridge_regression module useful\n",
    "\"\"\"\n",
    "## to do"
   ]
  },
  {
   "cell_type": "code",
   "execution_count": null,
   "id": "enormous-concentrate",
   "metadata": {},
   "outputs": [],
   "source": [
    "\"\"\" \n",
    "Describe the patterns, including the scale of the coefficients, as well as which coefficients \n",
    "have the most weight (5 points) \n",
    "\"\"\""
   ]
  },
  {
   "cell_type": "code",
   "execution_count": null,
   "id": "complimentary-oriental",
   "metadata": {},
   "outputs": [],
   "source": []
  }
 ],
 "metadata": {
  "kernelspec": {
   "display_name": "Python 3",
   "language": "python",
   "name": "python3"
  },
  "language_info": {
   "codemirror_mode": {
    "name": "ipython",
    "version": 3
   },
   "file_extension": ".py",
   "mimetype": "text/x-python",
   "name": "python",
   "nbconvert_exporter": "python",
   "pygments_lexer": "ipython3",
   "version": "3.8.5"
  }
 },
 "nbformat": 4,
 "nbformat_minor": 5
}
