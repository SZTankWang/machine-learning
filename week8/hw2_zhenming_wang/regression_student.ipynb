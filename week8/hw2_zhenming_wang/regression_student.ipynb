{
 "cells": [
  {
   "cell_type": "markdown",
   "id": "alike-satellite",
   "metadata": {},
   "source": [
    "## 3.2 Gradient Descent"
   ]
  },
  {
   "cell_type": "markdown",
   "id": "expanded-arcade",
   "metadata": {},
   "source": [
    "Loss function $$J(w) = \\frac{1}{n} \\sum \\limits_{i=1} ^{n} (y^{i}-\\hat{y^{i}})^2 $$\n",
    "where n is the number of samples, $y^{i}$ are the observed values, $\\hat{y^{i}}$ are the predicted values"
   ]
  },
  {
   "cell_type": "code",
   "execution_count": null,
   "id": "elegant-prototype",
   "metadata": {},
   "outputs": [],
   "source": [
    "import pickle\n",
    "import matplotlib.pylab as plt\n",
    "import pandas as pd"
   ]
  },
  {
   "cell_type": "code",
   "execution_count": null,
   "id": "handled-isaac",
   "metadata": {},
   "outputs": [],
   "source": [
    "## load data\n",
    "def load_data():\n",
    "    df = pd.read_csv('nomalized.txt', header=None)\n",
    "    df.columns = ['area', 'bdrm', 'price']\n",
    "    df ['intercept'] = 1\n",
    "    X = df[['intercept', 'area', 'bdrm']].values\n",
    "    y = df['price'].values\n",
    "    return X, y"
   ]
  },
  {
   "cell_type": "code",
   "execution_count": null,
   "id": "widespread-orlando",
   "metadata": {},
   "outputs": [],
   "source": [
    "def compute_error(pred, truth):\n",
    "    # compute the mean squared error\n",
    "    \n",
    "    ## to do\n",
    "    pass"
   ]
  },
  {
   "cell_type": "code",
   "execution_count": null,
   "id": "flying-programmer",
   "metadata": {},
   "outputs": [],
   "source": [
    "def compute_grad():\n",
    "    # compute the gradient\n",
    "    \n",
    "    ## to do\n",
    "    pass"
   ]
  },
  {
   "cell_type": "code",
   "execution_count": null,
   "id": "greenhouse-gothic",
   "metadata": {},
   "outputs": [],
   "source": [
    "## training with gradient descent\n",
    "def train(X, y, learning_rate, max_num_iter=1000):\n",
    "    \"\"\"\n",
    "    write a function which apply Gradient descent to estimate parameter w\n",
    "    Please also record the mean squared error in the iteration process and save it to error history\n",
    "    \"\"\"\n",
    "    error_history = []\n",
    "    \n",
    "    # initialize w\n",
    "    w = np.zeros((num_dim, 1), dtype=np.float32)\n",
    "    \n",
    "    # ensure dimension is 2-dim\n",
    "    y = y.reshape(y.shape[0], 1)\n",
    "    \n",
    "    for steps in range(num_iter):\n",
    "        # compute gradient descent over all training examples\n",
    "        # perform gradient descent (vector update)\n",
    "        # get predictions\n",
    "        # compute MSE and add it into error_history\n",
    "        \n",
    "        ## to do\n",
    "        pass\n",
    "    \n",
    "    return w, error_history"
   ]
  },
  {
   "cell_type": "code",
   "execution_count": null,
   "id": "threatened-symposium",
   "metadata": {},
   "outputs": [],
   "source": [
    "## fit regression model and plot the MSE/SSE vs. number of iterations\n",
    "X, y = load_data()\n",
    "\n",
    "## to do"
   ]
  },
  {
   "cell_type": "markdown",
   "id": "chinese-growth",
   "metadata": {},
   "source": [
    "## 3.3 Make prediction based on the linear regression model you get"
   ]
  },
  {
   "cell_type": "code",
   "execution_count": null,
   "id": "dried-vinyl",
   "metadata": {},
   "outputs": [],
   "source": [
    "# get the values used for normalization\n",
    "f = open('mean_std.pk', 'rb')\n",
    "norm_params = pickle.load(f)\n",
    "l, b, p = norm_params['area'], norm_params['n_bedroom'], norm_params['price']\n",
    "f.close()"
   ]
  },
  {
   "cell_type": "code",
   "execution_count": null,
   "id": "important-symposium",
   "metadata": {},
   "outputs": [],
   "source": [
    "# first normalize the features and then make predictions\n",
    "\n",
    "## to do\n",
    "\n",
    "# print out the predicted value\n",
    "print(\"The w is {}, and pred_price is {}\\n\".format(w, pred_price))"
   ]
  }
 ],
 "metadata": {
  "kernelspec": {
   "display_name": "Python 3",
   "language": "python",
   "name": "python3"
  },
  "language_info": {
   "codemirror_mode": {
    "name": "ipython",
    "version": 3
   },
   "file_extension": ".py",
   "mimetype": "text/x-python",
   "name": "python",
   "nbconvert_exporter": "python",
   "pygments_lexer": "ipython3",
   "version": "3.8.5"
  }
 },
 "nbformat": 4,
 "nbformat_minor": 5
}
