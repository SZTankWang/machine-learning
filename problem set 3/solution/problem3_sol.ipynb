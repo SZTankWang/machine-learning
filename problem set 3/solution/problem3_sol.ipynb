{
 "cells": [
  {
   "cell_type": "markdown",
   "id": "optical-supply",
   "metadata": {},
   "source": [
    "# Problem 3 Naive Bayes"
   ]
  },
  {
   "cell_type": "markdown",
   "id": "viral-judgment",
   "metadata": {},
   "source": [
    "## 3.1 implement a Naive Bayes classifier"
   ]
  },
  {
   "cell_type": "code",
   "execution_count": 3,
   "id": "maritime-africa",
   "metadata": {},
   "outputs": [],
   "source": [
    "import sys\n",
    "import itertools\n",
    "from collections import Counter\n",
    "import numpy as np\n",
    "from matplotlib import pyplot as plt\n",
    "import time\n",
    "from copy import deepcopy"
   ]
  },
  {
   "cell_type": "code",
   "execution_count": 27,
   "id": "working-chancellor",
   "metadata": {},
   "outputs": [],
   "source": [
    "class Model:\n",
    "    def __init__(self, wordlist):\n",
    "        self.wordlist = wordlist\n",
    "\n",
    "    def count_labels(self, data):\n",
    "        \"\"\"\n",
    "        Count the number of positive labels and negative labels.\n",
    "        Returns (a tuple or a numpy array of two elements):\n",
    "            * negative_count: a non-negative integer, which represents the number of negative labels;\n",
    "            * positive_count: a non-negative integer, which represents the number of positive labels.\n",
    "        \"\"\"\n",
    "\n",
    "        positive_count = sum([y for y, x in data])\n",
    "        negative_count = len(data) - positive_count\n",
    "        return np.array([negative_count, positive_count])\n",
    "\n",
    "    def count_words(self, wordlist, data):\n",
    "        \"\"\"\n",
    "        Count the number of times that each word appears in emails under a given label.\n",
    "        Returns (a numpy array):\n",
    "            * word_counts: a numpy array with shape (2, L), where L is the length of $wordlist,\n",
    "                - word_counts[0, i] represents the number of times that word $wordlist[i] appears in non-spam (negative) emails, and\n",
    "                - word_counts[1, i] represents the number of times that word $wordlist[i] appears in spam (positive) emails.\n",
    "        \"\"\"\n",
    "\n",
    "        word_counts = np.zeros((2, len(wordlist)), dtype=np.float32)\n",
    "        for y, x in data:\n",
    "            # we consider binary (0/1) occurrence of word for Naive Bayes, so a word set is taken here\n",
    "            for w in set(x):\n",
    "                if w in wordlist:\n",
    "                    word_counts[int(y), wordlist[w]] += 1\n",
    "        return word_counts\n",
    "\n",
    "    def calculate_probability(self, label_counts, word_counts):\n",
    "        \"\"\"\n",
    "        Calculate the probabilities, both the prior and likelihood.\n",
    "        Returns (a pair of numpy array):\n",
    "            * prior_probs: a numpy array with shape (2, ), only two elements, where\n",
    "                - prior_probs[0] is the prior probability of negative labels, and\n",
    "                - prior_probs[1] is the prior probability of positive labels.\n",
    "            * likelihood_probs: a numpy array with shape (2, L), where L is the length of the word list,\n",
    "                - likelihood_probs[0, i] represents the likelihood probability of the $i-th word in the word list, given that the email is non-spam (negative), and\n",
    "                - likelihood_probs[1, i] represents the likelihood probability of the $i-th word in the word list, given that the email is spam (positive).\n",
    "        \"\"\"\n",
    "        prior_probs = label_counts / label_counts.sum()        \n",
    "        likelihood_probs = (word_counts + 1) / (label_counts + 2).reshape(-1, 1)\n",
    "        return prior_probs, likelihood_probs\n",
    "\n",
    "    def fit(self, data):\n",
    "        label_counts = self.count_labels(data)\n",
    "        word_counts = self.count_words(self.wordlist, data)\n",
    "\n",
    "        self.prior_probs, self.likelihood_probs = self.calculate_probability(label_counts, word_counts)\n",
    "\n",
    "        # TO AVOID NUMBER OVERFLOW here we use log probability instead.\n",
    "        self.log_prior_probs = np.log(self.prior_probs)\n",
    "        self.log_likelihood_probs = np.dstack([np.log(1 - self.likelihood_probs), np.log(self.likelihood_probs)])\n",
    "\n",
    "    def predict(self, x):\n",
    "        \"\"\"\n",
    "        Predict whether email $x is a spam or not.\n",
    "        Returns:\n",
    "            * y: a boolean value indicating whether $x is a spam or not.\n",
    "        \"\"\"        \n",
    "        x_set = set(x)\n",
    "        word_idx = list(range(len(self.wordlist)))\n",
    "        is_occur = [int(word in x_set) for word in self.wordlist]\n",
    "        \n",
    "        # select all classes, followed by selecting from array word_idx, is_occur\n",
    "        # after selection, shape is [2, len(wordlist)]\n",
    "        preds = self.log_prior_probs + self.log_likelihood_probs[:, word_idx, is_occur].sum(axis=1)\n",
    "        \n",
    "        # print ('shape of preds',preds.shape)\n",
    "        return preds[1] >= preds[0]"
   ]
  },
  {
   "cell_type": "code",
   "execution_count": 28,
   "id": "announced-threat",
   "metadata": {},
   "outputs": [],
   "source": [
    "a = np.array([0.01,0.3,0.333,0.44,0.9,0.5]).reshape(2,3)"
   ]
  },
  {
   "cell_type": "code",
   "execution_count": 29,
   "id": "liberal-hierarchy",
   "metadata": {},
   "outputs": [
    {
     "data": {
      "text/plain": [
       "array([[0.01 , 0.3  , 0.333],\n",
       "       [0.44 , 0.9  , 0.5  ]])"
      ]
     },
     "execution_count": 29,
     "metadata": {},
     "output_type": "execute_result"
    }
   ],
   "source": [
    "a"
   ]
  },
  {
   "cell_type": "code",
   "execution_count": 30,
   "id": "satisfactory-assault",
   "metadata": {},
   "outputs": [
    {
     "data": {
      "text/plain": [
       "array([[-4.60517019, -1.2039728 , -1.09961279],\n",
       "       [-0.82098055, -0.10536052, -0.69314718]])"
      ]
     },
     "execution_count": 30,
     "metadata": {},
     "output_type": "execute_result"
    }
   ],
   "source": [
    "np.log(a)"
   ]
  },
  {
   "cell_type": "code",
   "execution_count": 31,
   "id": "hidden-coordinate",
   "metadata": {},
   "outputs": [
    {
     "data": {
      "text/plain": [
       "array([[-0.01005034, -0.35667494, -0.40496523],\n",
       "       [-0.5798185 , -2.30258509, -0.69314718]])"
      ]
     },
     "execution_count": 31,
     "metadata": {},
     "output_type": "execute_result"
    }
   ],
   "source": [
    "np.log(1-a)"
   ]
  },
  {
   "cell_type": "code",
   "execution_count": 32,
   "id": "saving-lender",
   "metadata": {},
   "outputs": [
    {
     "data": {
      "text/plain": [
       "array([[[-0.01005034, -4.60517019],\n",
       "        [-0.35667494, -1.2039728 ],\n",
       "        [-0.40496523, -1.09961279]],\n",
       "\n",
       "       [[-0.5798185 , -0.82098055],\n",
       "        [-2.30258509, -0.10536052],\n",
       "        [-0.69314718, -0.69314718]]])"
      ]
     },
     "execution_count": 32,
     "metadata": {},
     "output_type": "execute_result"
    }
   ],
   "source": [
    "b = np.dstack([np.log(1 - a), np.log(a)])\n",
    "b"
   ]
  },
  {
   "cell_type": "code",
   "execution_count": 33,
   "id": "compound-irrigation",
   "metadata": {},
   "outputs": [
    {
     "data": {
      "text/plain": [
       "array([[-4.60517019, -0.35667494, -0.40496523],\n",
       "       [-0.82098055, -2.30258509, -0.69314718]])"
      ]
     },
     "execution_count": 33,
     "metadata": {},
     "output_type": "execute_result"
    }
   ],
   "source": [
    "word_idx = [0,1,2]\n",
    "is_occur = [1,0,0]\n",
    "b[:, word_idx, is_occur]"
   ]
  },
  {
   "cell_type": "code",
   "execution_count": 34,
   "id": "based-intake",
   "metadata": {},
   "outputs": [
    {
     "name": "stdout",
     "output_type": "stream",
     "text": [
      "[[1 2]\n",
      " [3 4]]\n",
      "[[10]\n",
      " [20]]\n",
      "[[0.1  0.2 ]\n",
      " [0.15 0.2 ]]\n"
     ]
    }
   ],
   "source": [
    "c = np.array([1,2,3,4]).reshape(2,2)\n",
    "print (c)\n",
    "d = np.array([10,20]).reshape(-1,1)\n",
    "print (d)\n",
    "print (c/d)"
   ]
  },
  {
   "cell_type": "code",
   "execution_count": 35,
   "id": "musical-mongolia",
   "metadata": {},
   "outputs": [],
   "source": [
    "# threshold to determine whether to include a word in the dictionary/wordlist.\n",
    "# ie. only words with frequency higher than threshold are included\n",
    "THRESHOLD = 26\n",
    "\n",
    "def read_data(filename):\n",
    "    \"\"\"\n",
    "    Read the dataset from the file given by name $filename.\n",
    "    The returned object should be a list of pairs of data, such as\n",
    "        [\n",
    "            (True , ['a', 'b', 'c']),\n",
    "            (False, ['d', 'e', 'f']),\n",
    "            ...\n",
    "        ]\n",
    "    \"\"\"\n",
    "    with open(filename, 'r') as f:\n",
    "        return [(int(y), x) for y, *x in [line.strip().split() for line in f]]\n",
    "\n",
    "\n",
    "def split_train(original_train_data, size=4000):\n",
    "    return original_train_data[:size], original_train_data[size:]\n",
    "\n",
    "\n",
    "def create_wordlist(original_train_data, threshold=26):\n",
    "    \"\"\"\n",
    "    Create a word list from the original training set.\n",
    "    Only get a word if it appears in at least $threshold emails.\n",
    "    \"\"\"\n",
    "    # tokens: a word list containing all the words in training data\n",
    "    # wordlist: contains all words that appear at or above the threshold\n",
    "    tokens = itertools.chain(*[set(x) for y, x in original_train_data])\n",
    "    wordlist = [w for w, c in Counter(tokens).items() if c >= threshold]\n",
    "    \n",
    "    # Use a hash table for fast lookup of word index from word string\n",
    "    wordlist_dict = {w:i for i, w in enumerate(wordlist)}\n",
    "    return wordlist_dict"
   ]
  },
  {
   "cell_type": "code",
   "execution_count": 36,
   "id": "paperback-optics",
   "metadata": {},
   "outputs": [
    {
     "name": "stdout",
     "output_type": "stream",
     "text": [
      "1\n",
      "['public', 'announc', 'the', 'new', 'domain', 'name', 'ar', 'final', 'avail', 'to', 'the', 'gener', 'public', 'at', 'discount', 'price', 'now', 'you', 'can', 'regist', 'on', 'of', 'the', 'excit', 'new', 'biz', 'or', 'info', 'domain', 'name', 'as', 'well', 'as', 'the', 'origin', 'com', 'and', 'net', 'name', 'for', 'just', 'dollarnumb', 'number', 'these', 'brand', 'new', 'domain', 'extens', 'were', 'recent', 'approv', 'by', 'icann', 'and', 'have', 'the', 'same', 'right', 'as', 'the', 'origin', 'com', 'and', 'net', 'domain', 'name', 'the', 'biggest', 'benefit', 'is', 'of', 'cours', 'that', 'the', 'biz', 'and', 'info', 'domain', 'name', 'ar', 'current', 'more', 'avail', 'i', 'e', 'it', 'will', 'be', 'much', 'easier', 'to', 'regist', 'an', 'attract', 'and', 'easi', 'to', 'rememb', 'domain', 'name', 'for', 'the', 'same', 'price', 'visit', 'httpaddr', 'todai', 'for', 'more', 'info', 'regist', 'your', 'domain', 'name', 'todai', 'for', 'just', 'dollarnumb', 'number', 'at', 'httpaddr', 'registr', 'fee', 'includ', 'full', 'access', 'to', 'an', 'easi', 'to', 'us', 'control', 'panel', 'to', 'manag', 'your', 'domain', 'name', 'in', 'the', 'futur', 'sincer', 'domain', 'administr', 'afford', 'domain', 'to', 'remov', 'your', 'email', 'address', 'from', 'further', 'promot', 'mail', 'from', 'thi', 'compani', 'click', 'here', 'httpaddr', 'number', 'numberreyonumb', 'numberzkcvnumbertdvrnumb', 'numberilirnumberwysonumb', 'numberauornumberjqxznumb', 'numberlnumb']\n"
     ]
    },
    {
     "data": {
      "text/plain": [
       "Counter({'public': 2,\n",
       "         'announc': 1,\n",
       "         'the': 10,\n",
       "         'new': 3,\n",
       "         'domain': 10,\n",
       "         'name': 8,\n",
       "         'ar': 2,\n",
       "         'final': 1,\n",
       "         'avail': 2,\n",
       "         'to': 7,\n",
       "         'gener': 1,\n",
       "         'at': 2,\n",
       "         'discount': 1,\n",
       "         'price': 2,\n",
       "         'now': 1,\n",
       "         'you': 1,\n",
       "         'can': 1,\n",
       "         'regist': 3,\n",
       "         'on': 1,\n",
       "         'of': 2,\n",
       "         'excit': 1,\n",
       "         'biz': 2,\n",
       "         'or': 1,\n",
       "         'info': 3,\n",
       "         'as': 3,\n",
       "         'well': 1,\n",
       "         'origin': 2,\n",
       "         'com': 2,\n",
       "         'and': 5,\n",
       "         'net': 2,\n",
       "         'for': 4,\n",
       "         'just': 2,\n",
       "         'dollarnumb': 2,\n",
       "         'number': 3,\n",
       "         'these': 1,\n",
       "         'brand': 1,\n",
       "         'extens': 1,\n",
       "         'were': 1,\n",
       "         'recent': 1,\n",
       "         'approv': 1,\n",
       "         'by': 1,\n",
       "         'icann': 1,\n",
       "         'have': 1,\n",
       "         'same': 2,\n",
       "         'right': 1,\n",
       "         'biggest': 1,\n",
       "         'benefit': 1,\n",
       "         'is': 1,\n",
       "         'cours': 1,\n",
       "         'that': 1,\n",
       "         'current': 1,\n",
       "         'more': 2,\n",
       "         'i': 1,\n",
       "         'e': 1,\n",
       "         'it': 1,\n",
       "         'will': 1,\n",
       "         'be': 1,\n",
       "         'much': 1,\n",
       "         'easier': 1,\n",
       "         'an': 2,\n",
       "         'attract': 1,\n",
       "         'easi': 2,\n",
       "         'rememb': 1,\n",
       "         'visit': 1,\n",
       "         'httpaddr': 3,\n",
       "         'todai': 2,\n",
       "         'your': 3,\n",
       "         'registr': 1,\n",
       "         'fee': 1,\n",
       "         'includ': 1,\n",
       "         'full': 1,\n",
       "         'access': 1,\n",
       "         'us': 1,\n",
       "         'control': 1,\n",
       "         'panel': 1,\n",
       "         'manag': 1,\n",
       "         'in': 1,\n",
       "         'futur': 1,\n",
       "         'sincer': 1,\n",
       "         'administr': 1,\n",
       "         'afford': 1,\n",
       "         'remov': 1,\n",
       "         'email': 1,\n",
       "         'address': 1,\n",
       "         'from': 2,\n",
       "         'further': 1,\n",
       "         'promot': 1,\n",
       "         'mail': 1,\n",
       "         'thi': 1,\n",
       "         'compani': 1,\n",
       "         'click': 1,\n",
       "         'here': 1,\n",
       "         'numberreyonumb': 1,\n",
       "         'numberzkcvnumbertdvrnumb': 1,\n",
       "         'numberilirnumberwysonumb': 1,\n",
       "         'numberauornumberjqxznumb': 1,\n",
       "         'numberlnumb': 1})"
      ]
     },
     "execution_count": 36,
     "metadata": {},
     "output_type": "execute_result"
    }
   ],
   "source": [
    "## read file\n",
    "with open('spam_train.txt', 'r') as f:\n",
    "    first_line = f.readline()\n",
    "    f_list = first_line.strip().split()\n",
    "    for x, *y in [f_list]:\n",
    "        print (x)\n",
    "        print (y)        \n",
    "Counter(y)"
   ]
  },
  {
   "cell_type": "code",
   "execution_count": 37,
   "id": "royal-marathon",
   "metadata": {},
   "outputs": [
    {
     "name": "stdout",
     "output_type": "stream",
     "text": [
      "Total # of words: 3048\n",
      "Time: 2.0342869758605957\n",
      "Validation error, # =   61, % =   6.1000%.\n"
     ]
    }
   ],
   "source": [
    "original_train_data = read_data('spam_train.txt')\n",
    "\n",
    "train_data, val_data = split_train(original_train_data)\n",
    "\n",
    "# Create the word list.\n",
    "\n",
    "time1 = time.time()\n",
    "wordlist = create_wordlist(original_train_data, 26)\n",
    "print(\"Total # of words:\", len(wordlist))\n",
    "\n",
    "model = Model(wordlist)\n",
    "model.fit(train_data)\n",
    "\n",
    "error_count = sum([y != model.predict(x) for y, x in val_data])\n",
    "time2 = time.time()\n",
    "error_percentage = error_count / len(val_data) * 100\n",
    "print('Time: {}'.format(time2 - time1))\n",
    "print(\"Validation error, # = {:>4d}, % = {:>8.4f}%.\".format(error_count, error_percentage))"
   ]
  },
  {
   "cell_type": "markdown",
   "id": "protected-equipment",
   "metadata": {},
   "source": [
    "## 3.2 try different thresholds, find the optimal threshold (which gives minimum validation error), print out the test error at the optimal threshold"
   ]
  },
  {
   "cell_type": "code",
   "execution_count": 38,
   "id": "statewide-relief",
   "metadata": {},
   "outputs": [],
   "source": [
    "def compute_error_rate(model, data):\n",
    "    error_count = sum([y != model.predict(x) for y, x in data])\n",
    "    return 100.0 * error_count / len(data)"
   ]
  },
  {
   "cell_type": "code",
   "execution_count": 39,
   "id": "incoming-rescue",
   "metadata": {},
   "outputs": [],
   "source": [
    "thresholds = list(range(1, 35))\n",
    "train_error = []\n",
    "val_error = []\n",
    "test_error = []\n",
    "original_train_data = read_data('spam_train.txt')\n",
    "train_data, val_data = split_train(original_train_data)\n",
    "test_data = read_data('spam_test.txt')"
   ]
  },
  {
   "cell_type": "code",
   "execution_count": 40,
   "id": "silent-november",
   "metadata": {},
   "outputs": [
    {
     "name": "stdout",
     "output_type": "stream",
     "text": [
      "With threshold 1....\n",
      "train:12.275 val:14.7 test:16.5 len(V)=65812\n",
      "time: 94.56785202026367\n",
      "With threshold 2....\n",
      "train:4.45 val:6.1 test:7.3 len(V)=19298\n",
      "time: 29.24763011932373\n",
      "With threshold 3....\n",
      "train:4.0 val:5.4 test:5.9 len(V)=12882\n",
      "time: 19.700134992599487\n",
      "With threshold 4....\n",
      "train:3.975 val:5.5 test:5.3 len(V)=10362\n",
      "time: 16.038599014282227\n",
      "With threshold 5....\n",
      "train:3.95 val:5.5 test:5.2 len(V)=8773\n",
      "time: 13.829952001571655\n",
      "With threshold 6....\n",
      "train:4.1 val:5.6 test:5.4 len(V)=7803\n",
      "time: 12.48328185081482\n",
      "With threshold 7....\n",
      "train:4.225 val:5.5 test:5.4 len(V)=7085\n",
      "time: 11.41461992263794\n",
      "With threshold 8....\n",
      "train:4.2 val:5.1 test:5.5 len(V)=6493\n",
      "time: 10.55123496055603\n",
      "With threshold 9....\n",
      "train:4.4 val:5.1 test:6.0 len(V)=5982\n",
      "time: 9.815671920776367\n",
      "With threshold 10....\n",
      "train:4.55 val:5.0 test:6.1 len(V)=5603\n",
      "time: 9.303005933761597\n",
      "With threshold 11....\n",
      "train:4.55 val:5.1 test:6.2 len(V)=5303\n",
      "time: 8.961062908172607\n",
      "With threshold 12....\n",
      "train:4.625 val:5.0 test:6.2 len(V)=4988\n",
      "time: 8.478398084640503\n",
      "With threshold 13....\n",
      "train:4.65 val:5.1 test:6.4 len(V)=4727\n",
      "time: 8.203584909439087\n",
      "With threshold 14....\n",
      "train:4.775 val:5.3 test:6.3 len(V)=4499\n",
      "time: 7.753266334533691\n",
      "With threshold 15....\n",
      "train:4.725 val:5.5 test:6.4 len(V)=4310\n",
      "time: 7.466831684112549\n",
      "With threshold 16....\n",
      "train:4.725 val:5.6 test:6.3 len(V)=4133\n",
      "time: 7.225399971008301\n",
      "With threshold 17....\n",
      "train:4.8 val:5.5 test:6.4 len(V)=3984\n",
      "time: 6.966377019882202\n",
      "With threshold 18....\n",
      "train:4.85 val:5.5 test:6.4 len(V)=3848\n",
      "time: 6.751533031463623\n",
      "With threshold 19....\n",
      "train:5.025 val:5.6 test:6.6 len(V)=3724\n",
      "time: 6.619213104248047\n",
      "With threshold 20....\n",
      "train:5.05 val:5.7 test:6.7 len(V)=3613\n",
      "time: 6.443201065063477\n",
      "With threshold 21....\n",
      "train:5.125 val:5.7 test:6.8 len(V)=3521\n",
      "time: 6.376381874084473\n",
      "With threshold 22....\n",
      "train:5.125 val:5.7 test:6.8 len(V)=3408\n",
      "time: 6.218571901321411\n",
      "With threshold 23....\n",
      "train:5.175 val:5.7 test:6.9 len(V)=3308\n",
      "time: 6.038697957992554\n",
      "With threshold 24....\n",
      "train:5.275 val:5.8 test:7.0 len(V)=3206\n",
      "time: 6.047857046127319\n",
      "With threshold 25....\n",
      "train:5.525 val:6.0 test:7.2 len(V)=3137\n",
      "time: 5.82918906211853\n",
      "With threshold 26....\n",
      "train:5.575 val:6.1 test:7.4 len(V)=3048\n",
      "time: 5.686645984649658\n",
      "With threshold 27....\n",
      "train:5.6 val:6.1 test:7.6 len(V)=2968\n",
      "time: 5.577099084854126\n",
      "With threshold 28....\n",
      "train:5.7 val:6.2 test:7.7 len(V)=2906\n",
      "time: 5.458704948425293\n",
      "With threshold 29....\n",
      "train:5.725 val:6.3 test:7.8 len(V)=2840\n",
      "time: 5.32089900970459\n",
      "With threshold 30....\n",
      "train:5.7 val:6.2 test:7.6 len(V)=2769\n",
      "time: 5.243330001831055\n",
      "With threshold 31....\n",
      "train:5.7 val:6.2 test:7.5 len(V)=2712\n",
      "time: 5.127476930618286\n",
      "With threshold 32....\n",
      "train:5.75 val:6.1 test:7.5 len(V)=2655\n",
      "time: 5.051764965057373\n",
      "With threshold 33....\n",
      "train:5.725 val:6.1 test:7.6 len(V)=2607\n",
      "time: 4.980733871459961\n",
      "With threshold 34....\n",
      "train:5.75 val:6.1 test:7.7 len(V)=2562\n",
      "time: 4.9191319942474365\n"
     ]
    }
   ],
   "source": [
    "for th in thresholds:\n",
    "    print('With threshold {}....'.format(th))\n",
    "    time1 = time.time()\n",
    "\n",
    "    # vocabulary selection\n",
    "    wordlist = create_wordlist(original_train_data, th)\n",
    "\n",
    "    # fit model using the wordlist\n",
    "    model = Model(wordlist)\n",
    "    model.fit(train_data)\n",
    "\n",
    "    # compute classification error rates\n",
    "    err_train = compute_error_rate(model, train_data)\n",
    "    err_val = compute_error_rate(model, val_data)\n",
    "    err_test = compute_error_rate(model, test_data)\n",
    "\n",
    "    # store results for plotting\n",
    "    train_error.append(err_train)\n",
    "    val_error.append(err_val)\n",
    "    test_error.append(err_test)\n",
    "\n",
    "    time2 = time.time()\n",
    "    print(\"train:{} val:{} test:{} len(V)={}\".format(err_train, err_val, err_test, len(wordlist)))\n",
    "    print('time: {}'.format(time2 - time1))"
   ]
  },
  {
   "cell_type": "code",
   "execution_count": 42,
   "id": "defensive-industry",
   "metadata": {},
   "outputs": [
    {
     "data": {
      "image/png": "[encoded data removed]",
      "text/plain": [
       "<Figure size 432x288 with 1 Axes>"
      ]
     },
     "metadata": {
      "needs_background": "light"
     },
     "output_type": "display_data"
    },
    {
     "name": "stdout",
     "output_type": "stream",
     "text": [
      "Best performance at validated threshold 9 with test error rate 6.0.\n"
     ]
    }
   ],
   "source": [
    "plt.plot(thresholds, train_error, label='Training Error')\n",
    "plt.plot(thresholds, val_error, label='Validation Error')\n",
    "plt.plot(thresholds, test_error, label='Test Error')\n",
    "plt.xlabel('Threshold')\n",
    "plt.ylabel('Classification Error Rate(%)')\n",
    "plt.legend()\n",
    "plt.show()\n",
    "opt = np.argmin(val_error)\n",
    "print('Best performance at validated threshold {} with test error rate {}.'.format(opt, test_error[opt-1]))"
   ]
  },
  {
   "cell_type": "code",
   "execution_count": 1,
   "id": "defensive-catering",
   "metadata": {},
   "outputs": [
    {
     "data": {
      "text/plain": [
       "True"
      ]
     },
     "execution_count": 1,
     "metadata": {},
     "output_type": "execute_result"
    }
   ],
   "source": [
    "True == 1"
   ]
  },
  {
   "cell_type": "code",
   "execution_count": null,
   "id": "detected-creek",
   "metadata": {},
   "outputs": [],
   "source": []
  }
 ],
 "metadata": {
  "kernelspec": {
   "display_name": "Python 3",
   "language": "python",
   "name": "python3"
  },
  "language_info": {
   "codemirror_mode": {
    "name": "ipython",
    "version": 3
   },
   "file_extension": ".py",
   "mimetype": "text/x-python",
   "name": "python",
   "nbconvert_exporter": "python",
   "pygments_lexer": "ipython3",
   "version": "3.8.5"
  }
 },
 "nbformat": 4,
 "nbformat_minor": 5
}
