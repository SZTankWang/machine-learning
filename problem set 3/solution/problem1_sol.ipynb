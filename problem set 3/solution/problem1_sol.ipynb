{
 "cells": [
  {
   "cell_type": "markdown",
   "id": "executed-disorder",
   "metadata": {},
   "source": [
    "# Problem 1 Logistic Regression"
   ]
  },
  {
   "cell_type": "markdown",
   "id": "circular-grade",
   "metadata": {},
   "source": [
    "## 1.1 Fit a logistic regression model"
   ]
  },
  {
   "cell_type": "code",
   "execution_count": 9,
   "id": "complicated-serial",
   "metadata": {},
   "outputs": [],
   "source": [
    "import numpy as np\n",
    "import matplotlib.pyplot as plt\n",
    "from sklearn.metrics import accuracy_score\n",
    "import pandas as pd\n",
    "from sklearn.linear_model import LogisticRegression\n",
    "\n",
    "class LogisticRegressionGD:\n",
    "    def __init__(self, lr=0.01, fit_intercept=True, max_epoch=1e5, tolerance=1e-7, verbose=True):\n",
    "        self.lr = lr\n",
    "        self.fit_intercept = fit_intercept\n",
    "        self.max_epoch = max_epoch\n",
    "        self.tolerance = tolerance\n",
    "        self.verbose = True\n",
    "\n",
    "    def add_intercept(self, X):\n",
    "        # add an extra column for the intercept\n",
    "        intercept = np.ones([X.shape[0], 1])\n",
    "        return np.concatenate((intercept, X), axis=1)\n",
    "\n",
    "    def sigmoid(self, z):\n",
    "        return 1 / (1 + np.exp(-z))\n",
    "\n",
    "    def cost_function(self, h, y):\n",
    "        # calculate the loss\n",
    "        loss = -(1 / len(y)) * np.sum(y * np.log(h) + (1 - y) * np.log(1 - h))\n",
    "        return loss\n",
    "\n",
    "    def fit(self, X, y):\n",
    "        '''\n",
    "        Parameters\n",
    "        ----------\n",
    "        X : shape (n_samples, n_features)\n",
    "            Training data\n",
    "        y : shape (n_samples,)\n",
    "            Target values, 1 or 0\n",
    "        epochs : The number of epochs\n",
    "        '''\n",
    "\n",
    "        # initialize the parameters\n",
    "        if self.fit_intercept:\n",
    "            X = self.add_intercept(X)\n",
    "        \n",
    "        # initialize the coefficients\n",
    "        self.theta = np.zeros(X.shape[1])\n",
    "\n",
    "        tol = 1e10\n",
    "        n_epoch = 1\n",
    "        while tol > self.tolerance and n_epoch <= self.max_epoch:\n",
    "            old_theta = self.theta.copy()\n",
    "            \n",
    "            # TODO:\n",
    "            # calculate predictions\n",
    "            # pred.shape: [n_samples, 1]\n",
    "            pred = self.sigmoid(X.dot(old_theta))\n",
    "            \n",
    "            # calculate gradients\n",
    "            # grad.shape:  [n_features, 1]\n",
    "            grad = np.matmul(X.T, (y - pred))\n",
    "            grad = -grad / len(y)\n",
    "            \n",
    "            # update the coefficients\n",
    "            self.theta = old_theta - self.lr * grad\n",
    "            # END\n",
    "            \n",
    "            n_epoch += 1\n",
    "            tol = np.sum(np.abs(self.theta - old_theta))\n",
    "\n",
    "    def predict(self, X, threshold):\n",
    "        \"\"\"\n",
    "        Parameters\n",
    "        ----------\n",
    "        X : shape (n_samples, n_features)\n",
    "        threshold : threshold for make decision\n",
    "        Returns\n",
    "        -------\n",
    "        y : shape (n_samples,)\n",
    "            Predicted class label per sample, 1 or 0\n",
    "        \"\"\"\n",
    "        # TODO\n",
    "        \n",
    "        # add the intercept to X\n",
    "        if self.fit_intercept:\n",
    "            X = self.add_intercept(X)\n",
    "        \n",
    "        # get the prediction y\n",
    "        y = np.zeros(X.shape[0], dtype=np.int)\n",
    "        pred = self.sigmoid(X.dot(self.theta))\n",
    "        y[pred>=threshold] = 1\n",
    "\n",
    "        return y"
   ]
  },
  {
   "cell_type": "code",
   "execution_count": 10,
   "id": "ultimate-mercy",
   "metadata": {},
   "outputs": [],
   "source": [
    "# read the data\n",
    "df_X = pd.read_csv('logistic_x.txt', sep='\\ +', header=None, engine='python')\n",
    "ys = pd.read_csv('logistic_y.txt', sep='\\ +', header=None, engine='python')\n",
    "ys = ys.astype(int)\n",
    "ys.loc[ys[0] == -1,0] = 0\n",
    "df_X['label'] = ys"
   ]
  },
  {
   "cell_type": "code",
   "execution_count": 11,
   "id": "judicial-nevada",
   "metadata": {},
   "outputs": [
    {
     "name": "stdout",
     "output_type": "stream",
     "text": [
      "<class 'pandas.core.frame.DataFrame'>\n",
      "RangeIndex: 99 entries, 0 to 98\n",
      "Data columns (total 3 columns):\n",
      " #   Column  Non-Null Count  Dtype  \n",
      "---  ------  --------------  -----  \n",
      " 0   0       99 non-null     float64\n",
      " 1   1       99 non-null     float64\n",
      " 2   label   99 non-null     int64  \n",
      "dtypes: float64(2), int64(1)\n",
      "memory usage: 2.4 KB\n"
     ]
    }
   ],
   "source": [
    "df_X.info()"
   ]
  },
  {
   "cell_type": "code",
   "execution_count": 12,
   "id": "attended-literacy",
   "metadata": {},
   "outputs": [
    {
     "name": "stdout",
     "output_type": "stream",
     "text": [
      "[-2.62004691  0.76026934  1.17191257]\n"
     ]
    }
   ],
   "source": [
    "# fit the model and print out the coefficients w\n",
    "X = df_X[[0, 1]].values\n",
    "y = df_X['label'].values\n",
    "model = LogisticRegressionGD()\n",
    "model.fit(X, y)\n",
    "\n",
    "print(model.theta)"
   ]
  },
  {
   "cell_type": "markdown",
   "id": "danish-duplicate",
   "metadata": {},
   "source": [
    "## 1.2 Plot the training data and the decision boundary"
   ]
  },
  {
   "cell_type": "code",
   "execution_count": 13,
   "id": "superb-birthday",
   "metadata": {},
   "outputs": [
    {
     "data": {
      "image/png": "[encoded data removed]",
      "text/plain": [
       "<Figure size 432x288 with 1 Axes>"
      ]
     },
     "metadata": {
      "needs_background": "light"
     },
     "output_type": "display_data"
    }
   ],
   "source": [
    "w = model.theta\n",
    "x1 = X[:, 0]\n",
    "x2 = - w[0]/w[2] - w[1] * x1 / w[2]\n",
    "# plot the boundary\n",
    "plt.plot(x1, x2, color='Green', label='Decision Boundary')\n",
    "# plot the training data\n",
    "neg_index = np.where(ys == 0)[0]\n",
    "pos_index = np.where(ys == 1)[0]\n",
    "negs = X[neg_index]\n",
    "poss = X[pos_index]\n",
    "plt.scatter(negs[:, 0], negs[:, 1], label='Negative')\n",
    "plt.scatter(poss[:, 0], poss[:, 1], label='Positive')\n",
    "plt.title(\"Scatter plot and decision boundary at Pr(y=1|x) = 0.5\")\n",
    "plt.xlabel(\"x1\")\n",
    "plt.ylabel(\"x2\")\n",
    "plt.legend()\n",
    "plt.show()"
   ]
  },
  {
   "cell_type": "code",
   "execution_count": null,
   "id": "atomic-liquid",
   "metadata": {},
   "outputs": [],
   "source": []
  }
 ],
 "metadata": {
  "kernelspec": {
   "display_name": "Python 3",
   "language": "python",
   "name": "python3"
  },
  "language_info": {
   "codemirror_mode": {
    "name": "ipython",
    "version": 3
   },
   "file_extension": ".py",
   "mimetype": "text/x-python",
   "name": "python",
   "nbconvert_exporter": "python",
   "pygments_lexer": "ipython3",
   "version": "3.8.5"
  }
 },
 "nbformat": 4,
 "nbformat_minor": 5
}
