{
 "cells": [
  {
   "cell_type": "markdown",
   "id": "oriental-visit",
   "metadata": {},
   "source": [
    "# Problem 2: Linear Discriminative Analysis"
   ]
  },
  {
   "cell_type": "markdown",
   "id": "hungry-pendant",
   "metadata": {},
   "source": [
    "## 2.2 implement GaussianDiscAnalysis class, fit the model with breast cancer data (using the first two features), plot the testing data and the decision boundary"
   ]
  },
  {
   "cell_type": "code",
   "execution_count": 1,
   "id": "graphic-separation",
   "metadata": {},
   "outputs": [],
   "source": [
    "import numpy as np\n",
    "from sklearn.model_selection import train_test_split\n",
    "from sklearn.datasets import load_breast_cancer\n",
    "from sklearn.preprocessing import MinMaxScaler\n",
    "from sklearn.metrics import accuracy_score\n",
    "import matplotlib.pyplot as plt\n",
    "\n",
    "\n",
    "class GaussianDiscAnalysis:\n",
    "    \"\"\"\n",
    "    Fits a Linear Discriminant Analysis Model for binary class\n",
    "\n",
    "    \"\"\"\n",
    "\n",
    "    def compute_phi(self, y):\n",
    "        \"\"\"prior probability of positive class: P(Y=1)\"\"\"\n",
    "        return (1 / len(y)) * len(y[y == 1])\n",
    "\n",
    "    def compute_mu(self, X, y):\n",
    "        \"\"\"\n",
    "        compute Mu for the positive class and negative class\n",
    "        :param X: matrix of nxd  (n is sample size and d is number of features)\n",
    "        :param y: matrix of nx1\n",
    "        :param cls: integer 0/1\n",
    "        :return: matrix of 2xd with the first row being the mean of 0 class and the second row being the mean of class 1\n",
    "        \"\"\"\n",
    "        # TODO\n",
    "        mu = np.zeros((2, X.shape[-1]), dtype=np.float32)\n",
    "        \n",
    "        # y == 0 returns the index such that y[index] = 0. This can be used to select the rows we want\n",
    "        mu[0] = X[y==0].mean(axis=0)\n",
    "        mu[1] = X[y==1].mean(axis=0)\n",
    "\n",
    "        return mu\n",
    "\n",
    "    def compute_sigma(self, X, y):\n",
    "        \"\"\"\n",
    "        compute the common covariance matrix which is shared by the two classes\n",
    "        :param X: matrix of nxd  (n is sample size and d is number of features)\n",
    "        :param y: matrix of nx1\n",
    "        :return:  dxd covariance matrix\n",
    "        \"\"\"\n",
    "        # TODO\n",
    "        \n",
    "        # shape: n x d. Select the rows that belong to class 0 and 1 respectively\n",
    "        X_minus_mu0 = (X[y==0] - self.mu[0])\n",
    "        X_minus_mu1 = (X[y==1] - self.mu[1])\n",
    "        \n",
    "        # check: d x d\n",
    "        scatter = X_minus_mu0.T.dot(X_minus_mu0) + X_minus_mu1.T.dot(X_minus_mu1)\n",
    "        \n",
    "        return scatter / X.shape[0]\n",
    "\n",
    "    def gaussian_p(self, x, cls):\n",
    "        \"\"\"\n",
    "        Probability of X=x given y (Assume the conditional distribution is gaussian distribution)\n",
    "        To get the inverse and determinant of an matrix you can use the module np.linalg\n",
    "        :param x: 1D vector which is the feature vector for one observation\n",
    "        :param cls: interger 0/1\n",
    "        :return: probability density value of X=x|Y=cls\n",
    "        \"\"\"\n",
    "        d = len(x)\n",
    "        sigma_inv = np.linalg.inv(self.sigma)\n",
    "        det_sigma = np.linalg.det(self.sigma)\n",
    "        Pxi = (1 / ((2 * np.pi) ** (d / 2))) * (1 / (det_sigma ** 0.5)) \\\n",
    "              * np.exp(- 0.5 * (x - self.mu[cls]).dot(sigma_inv).dot(x - self.mu[cls]))\n",
    "        return Pxi\n",
    "\n",
    "    def fit(self, X, y):\n",
    "        \"\"\"Computes mean, covariance and proabilities of y (phi)\"\"\"\n",
    "        self.d = X.shape[1]\n",
    "        # the prior probability of Y=1\n",
    "        self.phi = self.compute_phi(y)\n",
    "        # mean of X for each class\n",
    "        self.mu = self.compute_mu(X, y)\n",
    "        # the common covariance matrix\n",
    "        self.sigma = self.compute_sigma(X, y)\n",
    "\n",
    "    def predict(self, X):\n",
    "        \"\"\"\n",
    "        make prediction based on P(Y|X).\n",
    "        You can effectively compare P(Y=1)*P(X|Y=1) v.s. P(Y=0)*P(X|Y=0)\n",
    "        :param X: 2D vector which each row representing a data point\n",
    "        :return: 1D vector which each element being 0/1\n",
    "        \"\"\"        \n",
    "        # TODO\n",
    "        y = np.zeros(np.size(X, 0))\n",
    "        for i in range(len(X)):\n",
    "            pred1 = self.gaussian_p(X[i, :], 1) * self.phi\n",
    "            pred0 = self.gaussian_p(X[i, :], 0) * (1 - self.phi)\n",
    "            y[i] = 1 if pred1 > pred0 else 0\n",
    "        return y"
   ]
  },
  {
   "cell_type": "code",
   "execution_count": 2,
   "id": "generic-crystal",
   "metadata": {},
   "outputs": [],
   "source": [
    "breast_cancer = load_breast_cancer()\n",
    "data = np.array(breast_cancer.data)\n",
    "label = np.array(breast_cancer.target)\n",
    "data = MinMaxScaler().fit_transform(data)"
   ]
  },
  {
   "cell_type": "code",
   "execution_count": 3,
   "id": "owned-whale",
   "metadata": {},
   "outputs": [],
   "source": [
    "# Split the training set and test set (only keep the first two features )\n",
    "train_data, test_data, train_label, test_label = train_test_split(data[:, :2], label, test_size=1 / 4, random_state=0)"
   ]
  },
  {
   "cell_type": "code",
   "execution_count": 4,
   "id": "tired-issue",
   "metadata": {},
   "outputs": [
    {
     "name": "stdout",
     "output_type": "stream",
     "text": [
      "the accuracy score is 0.8951048951048951\n"
     ]
    }
   ],
   "source": [
    "# fit the model using the data\n",
    "gda = GaussianDiscAnalysis()\n",
    "gda.fit(train_data, train_label)\n",
    "test_pred = gda.predict(test_data)\n",
    "print('the accuracy score is {}'.format(accuracy_score(test_label, test_pred)))"
   ]
  },
  {
   "cell_type": "code",
   "execution_count": 6,
   "id": "moral-juice",
   "metadata": {},
   "outputs": [
    {
     "data": {
      "image/png": "[encoded data removed]",
      "text/plain": [
       "<Figure size 432x288 with 1 Axes>"
      ]
     },
     "metadata": {
      "needs_background": "light"
     },
     "output_type": "display_data"
    },
    {
     "name": "stdout",
     "output_type": "stream",
     "text": [
      "[1.43116203] [-2.73736904]\n"
     ]
    }
   ],
   "source": [
    "\"\"\"\"P2.2 plot the data and the decision boundary\"\"\"\n",
    "# data visualization\n",
    "plt.scatter(test_data[:, 0], test_data[:, 1], c=test_label)\n",
    "plt.title(\"Scatter plot of breast cancer data with decision boundary\")\n",
    "\n",
    "# TODO\n",
    "# Plotting the decision boundary\n",
    "sigma_inv = np.linalg.pinv(gda.sigma)\n",
    "phi, mu_0, mu_1 = gda.phi, gda.mu[0, :], gda.mu[1, :]\n",
    "theta_0 = 0.5 * (mu_0.T.dot(sigma_inv).dot(mu_0) - mu_1.T.dot(sigma_inv).dot(mu_1)) - np.log((1 - phi) / phi)\n",
    "theta = sigma_inv.dot(mu_0 - mu_1).reshape((2, 1))\n",
    "w1, w2 = theta[0], theta[1]\n",
    "\n",
    "# calculate x2 given x1 from the test data similar to problem 1\n",
    "test_x2 = theta_0 / w2 - w1 * test_data[:, 0] / w2\n",
    "\n",
    "\n",
    "# plot decision boundary\n",
    "plt.plot(test_data[:, 0], test_x2, color='green', label='Decision Boundary')\n",
    "plt.legend()\n",
    "plt.show()\n",
    "\n",
    "# print out the intercept and the slope of the linear decision boundary\n",
    "print (theta_0 / w2, -w1/w2)"
   ]
  },
  {
   "cell_type": "code",
   "execution_count": null,
   "id": "therapeutic-thickness",
   "metadata": {},
   "outputs": [],
   "source": []
  }
 ],
 "metadata": {
  "kernelspec": {
   "display_name": "Python 3",
   "language": "python",
   "name": "python3"
  },
  "language_info": {
   "codemirror_mode": {
    "name": "ipython",
    "version": 3
   },
   "file_extension": ".py",
   "mimetype": "text/x-python",
   "name": "python",
   "nbconvert_exporter": "python",
   "pygments_lexer": "ipython3",
   "version": "3.8.5"
  }
 },
 "nbformat": 4,
 "nbformat_minor": 5
}
