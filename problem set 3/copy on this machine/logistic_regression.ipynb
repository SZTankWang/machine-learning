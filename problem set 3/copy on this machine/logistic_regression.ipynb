{
 "cells": [
  {
   "cell_type": "markdown",
   "metadata": {},
   "source": [
    "# Problem 1 Logistic Regression"
   ]
  },
  {
   "cell_type": "markdown",
   "metadata": {},
   "source": [
    "## 1.1 Fit a logistic regression model"
   ]
  },
  {
   "cell_type": "code",
   "execution_count": 2,
   "metadata": {},
   "outputs": [],
   "source": [
    "import numpy as np\n",
    "import matplotlib.pyplot as plt\n",
    "from sklearn import preprocessing\n",
    "from sklearn.metrics import accuracy_score\n",
    "import pandas as pd\n",
    "from sklearn.linear_model import LogisticRegression\n",
    "\n",
    "class LogisticRegressionGD:\n",
    "    def __init__(self, lr=0.01, fit_intercept=True, max_epoch=1e5, tolerance=1e-7, verbose=True):\n",
    "        self.lr = lr\n",
    "        self.fit_intercept = fit_intercept\n",
    "        self.max_epoch = max_epoch\n",
    "        self.tolerance = tolerance\n",
    "        self.verbose = True\n",
    "\n",
    "    def add_intercept(self, X):\n",
    "        # add an extra column for the intercept\n",
    "        intercept = np.ones([X.shape[0], 1])\n",
    "        return np.concatenate((intercept, X), axis=1)\n",
    "\n",
    "    def sigmoid(self, z):\n",
    "        return 1 / (1 + np.exp(-z))\n",
    "\n",
    "    def cost_function(self, h, y):\n",
    "        # calculate the loss\n",
    "        # return the loss\n",
    "        \n",
    "        # TODO\n",
    "        \n",
    "        n = h.shape[0]\n",
    "        return -(1/n) * np.sum(y@np.log(sigmoid(h)) + (1-y)@np.log(1-sigmoid(h)))\n",
    "\n",
    "    def fit(self, X, y):\n",
    "        '''\n",
    "        Parameters\n",
    "        ----------\n",
    "        X : shape (n_samples, n_features)\n",
    "            Training data\n",
    "        y : shape (n_samples,)\n",
    "            Target values, 1 or 0\n",
    "        epochs : The number of epochs\n",
    "        '''\n",
    "\n",
    "        # initialize the parameters\n",
    "        if self.fit_intercept:\n",
    "            X = self.add_intercept(X)\n",
    "        \n",
    "        # initialize the coefficients\n",
    "        self.theta = np.zeros(X.shape[1])\n",
    "\n",
    "        tol = 1e10\n",
    "        n_epoch = 1\n",
    "        while tol > self.tolerance and n_epoch <= self.max_epoch:\n",
    "            old_theta = self.theta.copy()\n",
    "            \n",
    "            # TODO:\n",
    "            # calculate predictions\n",
    "            # pred.shape: [n_samples, 1]\n",
    "            pred = np.dot(X,self.theta)\n",
    "            p_x = self.sigmoid(pred)\n",
    "            \n",
    "            # calculate gradients\n",
    "            # grad.shape:  [n_features, 1]\n",
    "            n = X.shape[0]\n",
    "            gradient = -(1/n)* np.dot(X.T,(y-p_x))\n",
    "            \n",
    "            # update the coefficients\n",
    "            self.theta = self.theta-self.lr*gradient\n",
    "            # END\n",
    "            \n",
    "            n_epoch += 1\n",
    "            tol = np.sum(np.abs(self.theta - old_theta))\n",
    "\n",
    "    def predict(self, X, threshold):\n",
    "        \"\"\"\n",
    "        Parameters\n",
    "        ----------\n",
    "        X : shape (n_samples, n_features)\n",
    "        threshold : threshold for make decision\n",
    "        Returns\n",
    "        -------\n",
    "        y : shape (n_samples,)\n",
    "            Predicted class label per sample, 1 or 0\n",
    "        \"\"\"\n",
    "        # TODO\n",
    "        \n",
    "        # add the intercept to X\n",
    "        if self.fit_intercept:\n",
    "            X = self.add_intercept(X)\n",
    "        # get the prediction y\n",
    "        pred = self.sigmoid(np.dot(X,self.theta))\n",
    "        # return prediction y\n",
    "        return pred >= threshold\n",
    "        "
   ]
  },
  {
   "cell_type": "code",
   "execution_count": 3,
   "metadata": {
    "scrolled": false
   },
   "outputs": [
    {
     "name": "stderr",
     "output_type": "stream",
     "text": [
      "E:\\Anaconda\\lib\\site-packages\\sklearn\\utils\\validation.py:72: DataConversionWarning: A column-vector y was passed when a 1d array was expected. Please change the shape of y to (n_samples, ), for example using ravel().\n",
      "  return f(**kwargs)\n"
     ]
    }
   ],
   "source": [
    "# read the data, transform the target variable y to 0/1 values\n",
    "# TODO\n",
    "X = pd.read_csv(\"logistic_x.txt\",header=None,delimiter='\\s+').to_numpy()\n",
    "y = pd.read_csv(\"logistic_y.txt\",header=None,delimiter='\\s+').to_numpy()\n",
    "\n",
    "le = preprocessing.LabelEncoder()\n",
    "y = le.fit_transform(y)\n",
    "\n"
   ]
  },
  {
   "cell_type": "code",
   "execution_count": 4,
   "metadata": {},
   "outputs": [
    {
     "name": "stdout",
     "output_type": "stream",
     "text": [
      "[-2.62004691  0.76026934  1.17191257]\n"
     ]
    }
   ],
   "source": [
    "# fit the model using the data, and print out the model coefficients w\n",
    "# we include the intercept term, so w is a vector with 3 components\n",
    "# print out the model coeffcients\n",
    "# TODO\n",
    "logicRegressor = LogisticRegressionGD()\n",
    "logicRegressor.fit(X,y)\n",
    "print(logicRegressor.theta)"
   ]
  },
  {
   "cell_type": "markdown",
   "metadata": {},
   "source": [
    "## 1.2 Plot the training data and the decision boundary"
   ]
  },
  {
   "cell_type": "code",
   "execution_count": 5,
   "metadata": {},
   "outputs": [
    {
     "data": {
      "image/png": "[encoded data removed]",
      "text/plain": [
       "<Figure size 432x288 with 1 Axes>"
      ]
     },
     "metadata": {
      "needs_background": "light"
     },
     "output_type": "display_data"
    }
   ],
   "source": [
    "# plot the training data (x axis: first feature, y axis: second feature), use different labels for the two classes\n",
    "\n",
    "# on the same figure, plot the boundary, a straight line showing the boundary separating p>0.5 from p<=0.5\n",
    "\n",
    "# TODO\n",
    "\n",
    "class_zero = X[y==0]\n",
    "class_one = X[y==1]\n",
    "plt.scatter(class_zero[:,0],class_zero[:,1],label=\"negative class\")\n",
    "plt.scatter(class_one[:,0],class_one[:,1],label=\"positive class\")\n",
    "\n",
    "params = logicRegressor.theta\n",
    "intercept = params[0]\n",
    "x_value = X[:,0]\n",
    "y_value = - (intercept + np.dot(params[1],x_value))/params[2]\n",
    "plt.plot(x_value,y_value,label=\"Decision Boundary\")\n",
    "plt.legend()\n",
    "plt.show()"
   ]
  },
  {
   "cell_type": "code",
   "execution_count": null,
   "metadata": {},
   "outputs": [],
   "source": []
  }
 ],
 "metadata": {
  "kernelspec": {
   "display_name": "Python 3",
   "language": "python",
   "name": "python3"
  },
  "language_info": {
   "codemirror_mode": {
    "name": "ipython",
    "version": 3
   },
   "file_extension": ".py",
   "mimetype": "text/x-python",
   "name": "python",
   "nbconvert_exporter": "python",
   "pygments_lexer": "ipython3",
   "version": "3.8.5"
  }
 },
 "nbformat": 4,
 "nbformat_minor": 5
}
