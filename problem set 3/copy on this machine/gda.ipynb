{
 "cells": [
  {
   "cell_type": "markdown",
   "metadata": {},
   "source": [
    "# Problem 2: Linear Discriminative Analysis"
   ]
  },
  {
   "cell_type": "markdown",
   "metadata": {},
   "source": [
    "## 2.2 implement GaussianDiscAnalysis class, fit the model with breast cancer data (using the first two features), plot the testing data and the decision boundary"
   ]
  },
  {
   "cell_type": "code",
   "execution_count": 190,
   "metadata": {},
   "outputs": [],
   "source": [
    "import numpy as np\n",
    "import math\n",
    "from numpy.linalg import inv,det\n",
    "from sklearn.model_selection import train_test_split\n",
    "from sklearn.datasets import load_breast_cancer\n",
    "from sklearn.preprocessing import MinMaxScaler\n",
    "from sklearn.metrics import accuracy_score\n",
    "import matplotlib.pyplot as plt\n",
    "\n",
    "\n",
    "class GaussianDiscAnalysis:\n",
    "    \"\"\"\n",
    "    Fits a Linear Discriminant Analysis Model for binary class\n",
    "\n",
    "    \"\"\"\n",
    "\n",
    "    def compute_phi(self, y):\n",
    "        \"\"\"\n",
    "        calculate prior probability of positive class: P(Y=1)\n",
    "        :param y: matrix of nx1\n",
    "        :return: the prior probability\n",
    "        \"\"\"\n",
    "        num_pos = np.count_nonzero(y == 1)\n",
    "        total = y.shape[0]\n",
    "        return num_pos/total\n",
    "        \n",
    "    def compute_mu(self, X, y):\n",
    "        \"\"\"\n",
    "        compute Mu for the positive class and negative class\n",
    "        :param X: matrix of nxd  (n is sample size and d is number of features)\n",
    "        :param y: matrix of nx1\n",
    "        :param cls: integer 0/1\n",
    "        :return: matrix of 2xd with the first row being the mean of 0 class and the second row being the mean of class 1\n",
    "        \"\"\"\n",
    "        # initialize the matrix Mu\n",
    "        mu = np.zeros((2, X.shape[-1]), dtype=np.float32)\n",
    "        \n",
    "        # compute Mu using the formula\n",
    "        # TODO\n",
    "        pos_class = X[y==1]\n",
    "        neg_class = X[y==0]\n",
    "        pos_mean = np.mean(pos_class,axis=0)\n",
    "        print(\"shape of pos mean \",pos_mean.shape)\n",
    "        neg_mean = np.mean(neg_class,axis=0)\n",
    "        mu[0,:] = neg_mean\n",
    "        mu[1,:] = pos_mean\n",
    "        print(\"shape of mu: \",mu.shape)\n",
    "        return mu\n",
    "    \n",
    "    def compute_sigma(self, X, y):\n",
    "        \"\"\"\n",
    "        compute the common covariance matrix which is shared by the two classes\n",
    "        :param X: matrix of nxd  (n is sample size and d is number of features)\n",
    "        :param y: matrix of nx1\n",
    "        :return:  dxd covariance matrix\n",
    "        \"\"\"\n",
    "        # compute Mu first\n",
    "        mu = self.compute_mu(X, y)\n",
    "        print(mu.shape)\n",
    "        \n",
    "        d= X.shape[1]\n",
    "        \n",
    "        # compute the covariance matrix using the formula\n",
    "        # TODO\n",
    "        pos_mean = mu[1,:].reshape((d,1))\n",
    "        print(\"pos mean: \",pos_mean)\n",
    "        neg_mean = mu[0,:].reshape((d,1))\n",
    "        print(\"neg mean: \",neg_mean)\n",
    "        sigma = np.zeros((X.shape[1],X.shape[1]))\n",
    "        \n",
    "        pos_data = X[y==1]\n",
    "        neg_data = X[y==0]\n",
    "        \n",
    "        for i in range(neg_data.shape[0]):\n",
    "            x_i = neg_data[i,:].reshape((d,1))\n",
    "            temp = (x_i-neg_mean)@((x_i-neg_mean).T)\n",
    "            sigma += temp\n",
    "            \n",
    "        for i in range(pos_data.shape[0]):\n",
    "            x_i = pos_data[i,:].reshape((d,1))\n",
    "            temp = (x_i-pos_mean)@((x_i-pos_mean).T)\n",
    "            sigma += temp\n",
    "            \n",
    "        sigma = sigma/X.shape[0]\n",
    "        print(\"compute sigma, sigma shape: \",sigma.shape)\n",
    "        return sigma\n",
    "        \n",
    "    def gaussian_p(self, x, cls):\n",
    "        \"\"\"\n",
    "        Probability of X=x given y (Assume the conditional distribution is gaussian distribution)\n",
    "        To get the inverse and determinant of an matrix you can use the module np.linalg\n",
    "        :param x: 1D vector which is the feature vector for one observation\n",
    "        :param cls: interger 0/1\n",
    "        :return: probability density value of X=x|Y=cls\n",
    "        \"\"\"\n",
    "        # TODO\n",
    "        \n",
    "        # compute d\n",
    "        d = x.shape[0]\n",
    "        \n",
    "        # compute the inverse of sigma\n",
    "#         print(\"shape of sigma:\",self.sigma.shape)\n",
    "#         print(\"inside gaussian_p, sigma is: \",self.sigma)\n",
    "        sig_inv = inv(self.sigma)\n",
    "        \n",
    "        # compute determinant of sigma\n",
    "        sig_det = det(self.sigma)\n",
    "        \n",
    "        # compute the probability density value of X=x|Y=cls\n",
    "        mu = self.mu[cls,:]\n",
    "        \n",
    "        prob_dens = 1/np.sqrt(((2*math.pi)**d) * sig_det)*np.exp(-1/2* (x-mu).T @ sig_inv @ (x-mu))\n",
    "        return prob_dens\n",
    "        \n",
    "\n",
    "    def fit(self, X, y):\n",
    "        \"\"\"Computes mean, covariance and proabilities of y (phi)\"\"\"\n",
    "        self.d = X.shape[1]\n",
    "        # the prior probability of Y=1\n",
    "        self.phi = self.compute_phi(y)\n",
    "        # mean of X for each class\n",
    "        self.mu = self.compute_mu(X, y)\n",
    "        # the common covariance matrix\n",
    "        self.sigma = self.compute_sigma(X, y)\n",
    "\n",
    "    def predict(self, X):\n",
    "        \"\"\"\n",
    "        make prediction based on P(Y|X).\n",
    "        You can effectively compare P(Y=1)*P(X|Y=1) v.s. P(Y=0)*P(X|Y=0)\n",
    "        :param X: 2D vector which each row representing a data point\n",
    "        :return: 1D vector which each element being 0/1\n",
    "        \"\"\"\n",
    "        # TODO\n",
    "        \n",
    "        # for each data point, calculate P(Y=1)*P(X|Y=1) and P(Y=0)*P(X|Y=0)\n",
    "        # if P(Y=1)*P(X|Y=1) > P(Y=0)*P(X|Y=0), then y is predicted to be 1\n",
    "        # else, y is predicted to be 0\n",
    "        result = np.zeros((X.shape[0],1))\n",
    "        \n",
    "        for i in range(X.shape[0]):\n",
    "            gauss_p1 = self.gaussian_p( X[i,:], 1)\n",
    "            gauss_p0 =self.gaussian_p( X[i,:], 0)\n",
    "            if(self.phi*gauss_p1 > (1-self.phi)*gauss_p0):\n",
    "                result[i,:] = 1\n",
    "            else:\n",
    "                result[i,:] = 0\n",
    "       \n",
    "        return result\n",
    "        "
   ]
  },
  {
   "cell_type": "code",
   "execution_count": 191,
   "metadata": {},
   "outputs": [],
   "source": [
    "breast_cancer = load_breast_cancer()\n",
    "data = np.array(breast_cancer.data)\n",
    "label = np.array(breast_cancer.target)\n",
    "data = MinMaxScaler().fit_transform(data)\n",
    "# label"
   ]
  },
  {
   "cell_type": "code",
   "execution_count": 192,
   "metadata": {},
   "outputs": [],
   "source": [
    "# Split the training set and test set (only keep the first two features )\n",
    "train_data, test_data, train_label, test_label = train_test_split(data[:, :2], label, test_size=1 / 4, random_state=0)"
   ]
  },
  {
   "cell_type": "code",
   "execution_count": 193,
   "metadata": {},
   "outputs": [
    {
     "name": "stdout",
     "output_type": "stream",
     "text": [
      "shape of pos mean  (2,)\n",
      "shape of mu:  (2, 2)\n",
      "shape of pos mean  (2,)\n",
      "shape of mu:  (2, 2)\n",
      "(2, 2)\n",
      "pos mean:  [[0.2464015 ]\n",
      " [0.27905852]]\n",
      "neg mean:  [[0.4964535]\n",
      " [0.394242 ]]\n",
      "compute sigma, sigma shape:  (2, 2)\n"
     ]
    }
   ],
   "source": [
    "# fit the model using the training data\n",
    "gda = GaussianDiscAnalysis()\n",
    "gda.fit(train_data, train_label)"
   ]
  },
  {
   "cell_type": "code",
   "execution_count": 194,
   "metadata": {},
   "outputs": [
    {
     "name": "stdout",
     "output_type": "stream",
     "text": [
      "the accuracy score is 0.8951048951048951\n"
     ]
    }
   ],
   "source": [
    "# get predictions for the test data, print out the accuracy score\n",
    "test_pred = gda.predict(test_data)\n",
    "\n",
    "print('the accuracy score is {}'.format(accuracy_score(test_label, test_pred)))"
   ]
  },
  {
   "cell_type": "code",
   "execution_count": 197,
   "metadata": {},
   "outputs": [
    {
     "name": "stdout",
     "output_type": "stream",
     "text": [
      "temp is  [18.24304816  6.66444599]\n",
      "shape of row1 and row2 () ()\n",
      "shape of x1 (143, 1)\n",
      "2.73736904325203\n",
      "coeff1:  -2.73736904325203\n",
      "coeff2:  1.4311619858530373\n",
      "shape of x2, (143, 1)\n",
      "shape of test data (143, 2)\n"
     ]
    },
    {
     "data": {
      "image/png": "[encoded data removed]",
      "text/plain": [
       "<Figure size 432x288 with 1 Axes>"
      ]
     },
     "metadata": {
      "needs_background": "light"
     },
     "output_type": "display_data"
    }
   ],
   "source": [
    "\"\"\"\"P2.2 plot the data and the decision boundary\"\"\"\n",
    "# data visualization\n",
    "\n",
    "# plot the testing data (x axis: first feature, y axis: second feature), use different colors for the two classes\n",
    "\n",
    "# on the same figure, plot the decision boundary\n",
    "\n",
    "# print out the intercept and the slope of the linear decision boundary\n",
    "\n",
    "# TODO\n",
    "phi_1 = gda.phi\n",
    "phi_0 = 1-gda.phi\n",
    "\n",
    "\n",
    "temp = inv(gda.sigma)@ (gda.mu[0,:]-gda.mu[1,:])\n",
    "print(\"temp is \",temp)\n",
    "row_1 = temp[0]\n",
    "row_2 = temp[1]\n",
    "print(\"shape of row1 and row2\",row_1.shape,row_2.shape)\n",
    "\n",
    "x = test_data[:,0]\n",
    "x = x.reshape((x.shape[0],1))\n",
    "print(\"shape of x1\",x.shape)\n",
    "print(row_1/row_2)\n",
    "\n",
    "coeff_1 = -(row_1/row_2)\n",
    "coeff_2 = - (1/row_2)*math.log(phi_0/phi_1) + (1/row_2)*(1/2)*((gda.mu[0,:]+gda.mu[1,:]).T @ inv(gda.sigma) @ (gda.mu[0,:]-gda.mu[1,:]))\n",
    "\n",
    "print(\"coeff1: \",coeff_1)\n",
    "print(\"coeff2: \",coeff_2)\n",
    "y= x * coeff_1 +coeff_2\n",
    "print(\"shape of x2,\",y.shape)\n",
    "\n",
    "\n",
    "plt.plot(x,y,label=\"decision boundary\")\n",
    "print(\"shape of test data\",test_data.shape)\n",
    "\n",
    "pos_data = test_data[test_label==1]\n",
    "neg_data = test_data[test_label==0]\n",
    "plt.scatter(pos_data[:,0],pos_data[:,1],label=\"postive class\")\n",
    "plt.scatter(neg_data[:,0],neg_data[:,1],label=\"negative class\")\n",
    "plt.xlabel(\"first feature\")\n",
    "plt.ylabel(\"second feature\")\n",
    "plt.ylim([0, 1])\n",
    "plt.legend()\n",
    "plt.show()\n"
   ]
  },
  {
   "cell_type": "markdown",
   "metadata": {},
   "source": [
    "**The coefficient of decision boundary:**\n",
    "+ The boundary is of the form x2 = ax1 + b\n",
    "+ a = coeff_1 =  -2.73736904325203\n",
    "+ b = coeff_2 = 1.4311619858530373"
   ]
  },
  {
   "cell_type": "code",
   "execution_count": null,
   "metadata": {},
   "outputs": [],
   "source": []
  }
 ],
 "metadata": {
  "kernelspec": {
   "display_name": "Python 3",
   "language": "python",
   "name": "python3"
  },
  "language_info": {
   "codemirror_mode": {
    "name": "ipython",
    "version": 3
   },
   "file_extension": ".py",
   "mimetype": "text/x-python",
   "name": "python",
   "nbconvert_exporter": "python",
   "pygments_lexer": "ipython3",
   "version": "3.8.5"
  }
 },
 "nbformat": 4,
 "nbformat_minor": 5
}
