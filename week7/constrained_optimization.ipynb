{
 "cells": [
  {
   "cell_type": "markdown",
   "id": "opposed-retail",
   "metadata": {},
   "source": [
    "# Constrained Optimization"
   ]
  },
  {
   "cell_type": "code",
   "execution_count": null,
   "id": "thousand-vocabulary",
   "metadata": {},
   "outputs": [],
   "source": [
    "# slides\n",
    "# http://ml.qa.shanghai.nyu.edu/pre/optimization-lagrange/"
   ]
  },
  {
   "cell_type": "markdown",
   "id": "pharmaceutical-stranger",
   "metadata": {},
   "source": [
    "## Equality Constraints"
   ]
  },
  {
   "cell_type": "code",
   "execution_count": null,
   "id": "patient-material",
   "metadata": {},
   "outputs": [],
   "source": [
    "%matplotlib inline\n",
    "import matplotlib.pyplot as plt\n",
    "plt.style.use('seaborn-white')\n",
    "import numpy as np"
   ]
  },
  {
   "cell_type": "code",
   "execution_count": null,
   "id": "mathematical-essay",
   "metadata": {},
   "outputs": [],
   "source": [
    "def f(x, y):\n",
    "    return x ** 2 * y"
   ]
  },
  {
   "cell_type": "code",
   "execution_count": null,
   "id": "efficient-airplane",
   "metadata": {},
   "outputs": [],
   "source": [
    "x = np.linspace(-3, 3, 100)\n",
    "y = np.linspace(-3, 3, 100)\n",
    "\n",
    "X, Y = np.meshgrid(x, y)\n",
    "Z = f(X, Y)"
   ]
  },
  {
   "cell_type": "code",
   "execution_count": null,
   "id": "stable-appraisal",
   "metadata": {},
   "outputs": [],
   "source": [
    "fig, ax = plt.subplots()\n",
    "\n",
    "contours = ax.contour(X, Y, Z, 10, colors='k')\n",
    "plt.clabel(contours, inline=True, fontsize=10)\n",
    "circle1 = plt.Circle((0, 0), 1, color='forestgreen', alpha = 0.3)\n",
    "ax.add_patch(circle1)\n",
    "ax.set_xlim(-3, 3)\n",
    "ax.set_ylim(-3, 3)\n",
    "plt.gca().set_aspect('equal', adjustable='box')"
   ]
  },
  {
   "cell_type": "code",
   "execution_count": null,
   "id": "greater-siemens",
   "metadata": {},
   "outputs": [],
   "source": [
    "import scipy.optimize as opt\n",
    "\n",
    "def f(x):\n",
    "   return x[0]**2 * x[1]\n",
    "\n",
    "def h(x,c=1):\n",
    "   return x[0]**2 + x[1]**2 - c\n",
    "\n",
    "#Constraints dict\n",
    "cons = ({\n",
    "  'type': 'eq',               #Specify that we want equality\n",
    "  'fun' : lambda x: h(x,c=1)  #Format: fun(x)=0\n",
    "})\n",
    "\n",
    "sol = opt.minimize(f,\n",
    "  x0 = [10.1,-0.1],         #Starting point\n",
    "  constraints=cons,\n",
    "  method='SLSQP',\n",
    "  options={'disp': True},\n",
    "  tol=10e-10)\n",
    "\n",
    "sol.x"
   ]
  },
  {
   "cell_type": "markdown",
   "id": "medieval-recommendation",
   "metadata": {},
   "source": [
    "## Inequality Constraints"
   ]
  },
  {
   "cell_type": "markdown",
   "id": "bibliographic-george",
   "metadata": {},
   "source": [
    "$$ min\\;f(x)$$\n",
    "$$s.t. g(x)\\leq0$$"
   ]
  },
  {
   "cell_type": "markdown",
   "id": "female-airline",
   "metadata": {},
   "source": [
    "### inactive constraint\n",
    "$$ f(x) = x_{1}^2 + x_{2}^2 $$\n",
    "$$ g(x) = x_{1}^2 + x_{2}^2 - 1 $$"
   ]
  },
  {
   "cell_type": "code",
   "execution_count": null,
   "id": "foreign-facial",
   "metadata": {},
   "outputs": [],
   "source": [
    "def f(x, y):\n",
    "    return x ** 2 + y ** 2"
   ]
  },
  {
   "cell_type": "code",
   "execution_count": null,
   "id": "synthetic-assembly",
   "metadata": {},
   "outputs": [],
   "source": [
    "x = np.linspace(-3, 3, 100)\n",
    "y = np.linspace(-3, 3, 100)\n",
    "\n",
    "X, Y = np.meshgrid(x, y)\n",
    "Z = f(X, Y)"
   ]
  },
  {
   "cell_type": "code",
   "execution_count": null,
   "id": "settled-study",
   "metadata": {},
   "outputs": [],
   "source": [
    "fig, ax = plt.subplots()\n",
    "\n",
    "contours = ax.contour(X, Y, Z, 10, colors='k')\n",
    "plt.clabel(contours, inline=True, fontsize=10)\n",
    "circle1 = plt.Circle((0, 0), 1, color='forestgreen', alpha = 0.3)\n",
    "ax.add_patch(circle1)\n",
    "ax.set_xlim(-3, 3)\n",
    "ax.set_ylim(-3, 3)\n",
    "plt.gca().set_aspect('equal', adjustable='box')"
   ]
  },
  {
   "cell_type": "markdown",
   "id": "agreed-remains",
   "metadata": {},
   "source": [
    "### active constraint\n",
    "$$ f(x) = (x_{1}-1.1)^2 + (x_{2}-1.1)^2 $$\n",
    "$$ g(x) = x_{1}^2 + x_{2}^2 - 1 $$"
   ]
  },
  {
   "cell_type": "code",
   "execution_count": null,
   "id": "funky-parking",
   "metadata": {},
   "outputs": [],
   "source": [
    "def f(x, y):\n",
    "    return (x-1.1) ** 2 + (y-1.1) ** 2"
   ]
  },
  {
   "cell_type": "code",
   "execution_count": null,
   "id": "thorough-distributor",
   "metadata": {},
   "outputs": [],
   "source": [
    "x = np.linspace(-3, 3, 100)\n",
    "y = np.linspace(-3, 3, 100)\n",
    "\n",
    "X, Y = np.meshgrid(x, y)\n",
    "Z = f(X, Y)"
   ]
  },
  {
   "cell_type": "code",
   "execution_count": null,
   "id": "governing-arrest",
   "metadata": {},
   "outputs": [],
   "source": [
    "fig, ax = plt.subplots()\n",
    "\n",
    "contours = ax.contour(X, Y, Z, 40, colors='k')\n",
    "plt.clabel(contours, inline=True, fontsize=10)\n",
    "circle1 = plt.Circle((0, 0), 1, color='forestgreen', alpha = 0.3)\n",
    "ax.add_patch(circle1)\n",
    "ax.set_xlim(-3, 3)\n",
    "ax.set_ylim(-3, 3)\n",
    "plt.gca().set_aspect('equal', adjustable='box')"
   ]
  },
  {
   "cell_type": "code",
   "execution_count": null,
   "id": "serious-refund",
   "metadata": {},
   "outputs": [],
   "source": [
    "# https://docs.scipy.org/doc/scipy/reference/tutorial/optimize.html#sequential-least-squares-programming-slsqp-algorithm-method-slsqp\n",
    "import scipy.optimize as opt\n",
    "\n",
    "def f(x):\n",
    "   return x[0]**2 * x[1]\n",
    "\n",
    "def h(x,c=1):\n",
    "   return - (x[0]**2 + x[1]**2 - c)\n",
    "\n",
    "#Constraints dict\n",
    "cons = ({\n",
    "  'type': 'ineq',             #Specify that we want equality\n",
    "  'fun' : lambda x: h(x,c=1)  #Format: fun(x)>=0\n",
    "})\n",
    "\n",
    "sol = opt.minimize(f,\n",
    "  x0 = [0.1,-0.1],         #Starting point\n",
    "  method='SLSQP',\n",
    "  constraints=cons,\n",
    "  options={'disp': True},\n",
    "  tol=10e-10)\n",
    "\n",
    "sol.x"
   ]
  },
  {
   "cell_type": "code",
   "execution_count": null,
   "id": "metropolitan-international",
   "metadata": {},
   "outputs": [],
   "source": []
  }
 ],
 "metadata": {
  "kernelspec": {
   "display_name": "Python 3",
   "language": "python",
   "name": "python3"
  },
  "language_info": {
   "codemirror_mode": {
    "name": "ipython",
    "version": 3
   },
   "file_extension": ".py",
   "mimetype": "text/x-python",
   "name": "python",
   "nbconvert_exporter": "python",
   "pygments_lexer": "ipython3",
   "version": "3.8.5"
  }
 },
 "nbformat": 4,
 "nbformat_minor": 5
}
