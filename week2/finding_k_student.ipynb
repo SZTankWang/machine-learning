{
 "cells": [
  {
   "cell_type": "code",
   "execution_count": 1,
   "metadata": {},
   "outputs": [],
   "source": [
    "import numpy as np \n",
    "import matplotlib.pyplot as plt\n",
    "import pandas as pd\n",
    "\n",
    "%matplotlib inline"
   ]
  },
  {
   "cell_type": "markdown",
   "metadata": {},
   "source": [
    "# Generating toy data \n",
    "We've seen in class that choosing the right value of k can be tricky. In this example, we will load a toy dataset and study how to find the right value of k without looking at the data."
   ]
  },
  {
   "cell_type": "code",
   "execution_count": 2,
   "metadata": {},
   "outputs": [
    {
     "data": {
      "text/plain": [
       "[<matplotlib.lines.Line2D at 0x7fc7d8a64470>]"
      ]
     },
     "execution_count": 2,
     "metadata": {},
     "output_type": "execute_result"
    },
    {
     "data": {
      "image/png": "[encoded data removed]",
      "text/plain": [
       "<Figure size 432x288 with 1 Axes>"
      ]
     },
     "metadata": {
      "needs_background": "light"
     },
     "output_type": "display_data"
    }
   ],
   "source": [
    "def generate_dataset(N=100):\n",
    "    # generate some random data with noise\n",
    "    rng = np.random.RandomState(1)\n",
    "    x = 1. + (9. * rng.rand(N))\n",
    "    TRUEW0,TRUEW1 = 1.0, 1.0\n",
    "    y = TRUEW0*rng.randn(N) + TRUEW1 * x\n",
    "    \n",
    "    # add one outlier for showcasing\n",
    "    x = [4] + list(x) \n",
    "    y = [8.5] + list(y)\n",
    "    return np.matrix(x).T,np.array(y)\n",
    "\n",
    "x,y = generate_dataset()\n",
    "\n",
    "plt.plot(x, y, '.')"
   ]
  },
  {
   "cell_type": "markdown",
   "metadata": {},
   "source": [
    "# Sci-kit learn \n",
    "Scit-kit learn (sklearn) is an open-source python library that contains efficient implementations of a broad range of machine learning algorithms. We will be using sklearn throughout this class so you must familiarize yourself with it. Load sklearn and try to train a k-NN regressor model for the given dataset."
   ]
  },
  {
   "cell_type": "code",
   "execution_count": 3,
   "metadata": {},
   "outputs": [],
   "source": [
    "from sklearn.neighbors import KNeighborsRegressor\n",
    "k=1\n",
    "# initialize the model\n",
    "model = KNeighborsRegressor(n_neighbors=k)\n",
    "model = model.fit(x, y)\n",
    "y_pred = model.predict(x)"
   ]
  },
  {
   "cell_type": "markdown",
   "metadata": {},
   "source": [
    "We can now use it to make predictions. \n",
    "The KNeighborsRegressor has the prediction function built-in, all we need to do is call the predict() function. For instance, in the code below, we will generate 10 \"Hours Slept\"-points, we then ask the model to give us its estimate of Happiness."
   ]
  },
  {
   "cell_type": "markdown",
   "metadata": {},
   "source": [
    "<font color=blue size =4>Inclass exercise</font>"
   ]
  },
  {
   "cell_type": "code",
   "execution_count": 4,
   "metadata": {},
   "outputs": [
    {
     "name": "stdout",
     "output_type": "stream",
     "text": [
      "if you sleep [1] hours, you will be 0.7 happy\n",
      "if you sleep [2] hours, you will be 2.5 happy\n",
      "if you sleep [3] hours, you will be 4.5 happy\n",
      "if you sleep [4] hours, you will be 8.5 happy\n",
      "if you sleep [5] hours, you will be 5.4 happy\n",
      "if you sleep [6] hours, you will be 6.2 happy\n",
      "if you sleep [7] hours, you will be 6.8 happy\n",
      "if you sleep [8] hours, you will be 6.5 happy\n",
      "if you sleep [9] hours, you will be 9.4 happy\n",
      "if you sleep [10] hours, you will be 10.3 happy\n"
     ]
    }
   ],
   "source": [
    "# In-class exercise: use the predict function to predict how\n",
    "# happy a person is after sleeping 1, 2, ..., 10 hours"
   ]
  },
  {
   "cell_type": "code",
   "execution_count": 5,
   "metadata": {},
   "outputs": [
    {
     "data": {
      "image/png": "[encoded data removed]",
      "text/plain": [
       "<Figure size 432x288 with 1 Axes>"
      ]
     },
     "metadata": {
      "needs_background": "light"
     },
     "output_type": "display_data"
    }
   ],
   "source": [
    "# compare the training data the predictions made for testing data \n",
    "plt.plot(x, y, 'g.')\n",
    "plt.plot(hours_slept, happiness, 'r.')\n",
    "plt.show()"
   ]
  },
  {
   "cell_type": "markdown",
   "metadata": {},
   "source": [
    "# Define goodness of fit measure \n",
    "We use MSE as to measure goodness of fit for KNN regressor. Both numpy and sklearn have built-in functions that can help you calculate the MSE efficiently. "
   ]
  },
  {
   "cell_type": "markdown",
   "metadata": {},
   "source": [
    "<font color=blue size =4>Inclass exercise</font>"
   ]
  },
  {
   "cell_type": "code",
   "execution_count": 6,
   "metadata": {},
   "outputs": [
    {
     "name": "stdout",
     "output_type": "stream",
     "text": [
      "model mse for 1-nn is 0.0\n"
     ]
    }
   ],
   "source": [
    "# In-class exercise: create a function\n",
    "# that calculates the MSE for a dataset\n",
    "# with the following inputs\n",
    "#   model   : a previously trained model\n",
    "#   x       : the original input data\n",
    "#   y       : the original output data\n",
    "#   returns : the mean-squared-error   \n",
    "def model_mse(model, x, y):\n",
    "    ...\n",
    "\n",
    "# then call the function to messure the mse of the model that you have just defined "
   ]
  },
  {
   "cell_type": "markdown",
   "metadata": {},
   "source": [
    "# Different k's \n",
    "Let's start by building three different models, one with small value of k, one with medium k and one with high k "
   ]
  },
  {
   "cell_type": "code",
   "execution_count": 7,
   "metadata": {},
   "outputs": [
    {
     "name": "stdout",
     "output_type": "stream",
     "text": [
      "when k=1, the model mse is 0.0\n",
      "when k=15, the model mse is 0.981\n",
      "when k=60, the model mse is 2.294\n"
     ]
    }
   ],
   "source": [
    "for k in [1, 15, 60]:\n",
    "    model = KNeighborsRegressor(n_neighbors=k)\n",
    "    model.fit(x,y)\n",
    "    mse = model_mse(model, x, y)\n",
    "    print('when k={}, the model mse is {}'.format(k, round(mse, 3)))"
   ]
  },
  {
   "cell_type": "markdown",
   "metadata": {},
   "source": [
    "# Holdout testing to determine k\n",
    "A model with k=1k=1 is perfect?! How come this doesn't match reality? The problem is that we are cheating. If we want to truly know if a model is good or not, we should look at how well it does on previously unseen data. The correct way to test a model is, therefore, to split it into two pieces. You use one piece (the train set) to train the model, the other piece (the test set) to test the model:"
   ]
  },
  {
   "cell_type": "markdown",
   "metadata": {},
   "source": [
    "Let's do the splitting using numpy's indexing function "
   ]
  },
  {
   "cell_type": "code",
   "execution_count": 8,
   "metadata": {},
   "outputs": [],
   "source": [
    "cut = 15\n",
    "\n",
    "# the train set is everything but the last 'cut' points\n",
    "x_train, y_train = x[:-cut], y[:-cut]\n",
    "\n",
    "# the test set contains the last 20 points\n",
    "x_test, y_test = x[-cut:], y[-cut:]"
   ]
  },
  {
   "cell_type": "markdown",
   "metadata": {},
   "source": [
    "Let us recalculate the MSE for the training and the test set. Of course, to do so we will need to retrain the models from scratch (since we're training it on a smaller data set)."
   ]
  },
  {
   "cell_type": "code",
   "execution_count": 9,
   "metadata": {},
   "outputs": [
    {
     "name": "stdout",
     "output_type": "stream",
     "text": [
      "Model\t| Train\t| Test\n",
      "NN(1)\t|  0.00\t|  2.41\n",
      "NN(15)\t|  0.96\t|  1.19\n",
      "NN(60)\t|  3.27\t|  2.22\n"
     ]
    }
   ],
   "source": [
    "def evaluate_model_mse(x_train, y_train, x_test, y_test, n_neighbours):\n",
    "    # 1. train the model first using sklearn as before\n",
    "    model = KNeighborsRegressor(n_neighbors=n_neighbours)\n",
    "    model = model.fit(x_train,y_train)\n",
    "    \n",
    "    # 2. and evaluate the MSE\n",
    "    MSE_train = model_mse(model, x_train, y_train)\n",
    "    MSE_test  = model_mse(model, x_test, y_test)\n",
    "    return (MSE_train,MSE_test)\n",
    "\n",
    "print(\"Model\\t| Train\\t| Test\")\n",
    "print(\"NN(1)\\t|  %2.2f\\t|  %2.2f\"   % evaluate_model_mse(x_train, y_train, x_test, y_test,1))\n",
    "print(\"NN(15)\\t|  %2.2f\\t|  %2.2f\"  % evaluate_model_mse(x_train, y_train, x_test, y_test,15))\n",
    "print(\"NN(60)\\t|  %2.2f\\t|  %2.2f\"  % evaluate_model_mse(x_train, y_train, x_test, y_test,60))\n"
   ]
  },
  {
   "cell_type": "markdown",
   "metadata": {},
   "source": [
    "<font color=blue size =4>Inclass exercise</font>"
   ]
  },
  {
   "cell_type": "code",
   "execution_count": 10,
   "metadata": {},
   "outputs": [
    {
     "name": "stdout",
     "output_type": "stream",
     "text": [
      "60\n"
     ]
    },
    {
     "data": {
      "image/png": "[encoded data removed]",
      "text/plain": [
       "<Figure size 432x288 with 1 Axes>"
      ]
     },
     "metadata": {
      "needs_background": "light"
     },
     "output_type": "display_data"
    }
   ],
   "source": [
    "# In-class exercise: create a function that calculates \n",
    "# the MSE for a range of k values and plot the result.\n",
    "# Hint: use your evaluate_model_mse function\n",
    "import matplotlib.pyplot as plt\n",
    "\n",
    "#plt.plot(...)"
   ]
  }
 ],
 "metadata": {
  "kernelspec": {
   "display_name": "Python 3",
   "language": "python",
   "name": "python3"
  },
  "language_info": {
   "codemirror_mode": {
    "name": "ipython",
    "version": 3
   },
   "file_extension": ".py",
   "mimetype": "text/x-python",
   "name": "python",
   "nbconvert_exporter": "python",
   "pygments_lexer": "ipython3",
   "version": "3.8.3"
  }
 },
 "nbformat": 4,
 "nbformat_minor": 4
}
